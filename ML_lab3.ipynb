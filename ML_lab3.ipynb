{
  "nbformat": 4,
  "nbformat_minor": 0,
  "metadata": {
    "accelerator": "GPU",
    "colab": {
      "name": "ML_lab3.ipynb",
      "provenance": [],
      "collapsed_sections": [],
      "toc_visible": true
    },
    "kernelspec": {
      "display_name": "Python 3",
      "name": "python3"
    }
  },
  "cells": [
    {
      "cell_type": "code",
      "metadata": {
        "id": "7cPfRzzlxC66",
        "outputId": "59391b5c-c4a0-44d7-e911-e2f83ce7a3bb",
        "colab": {
          "resources": {
            "http://localhost:8080/nbextensions/google.colab/files.js": {
              "data": "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",
              "ok": true,
              "headers": [
                [
                  "content-type",
                  "application/javascript"
                ]
              ],
              "status": 200,
              "status_text": ""
            }
          },
          "base_uri": "https://localhost:8080/",
          "height": 107
        }
      },
      "source": [
        "from google.colab import files\n",
        "uploaded = files.upload()"
      ],
      "execution_count": 1,
      "outputs": [
        {
          "output_type": "display_data",
          "data": {
            "text/html": [
              "\n",
              "     <input type=\"file\" id=\"files-9200fc85-f94f-4f50-8d09-8c7c3aadc1eb\" name=\"files[]\" multiple disabled\n",
              "        style=\"border:none\" />\n",
              "     <output id=\"result-9200fc85-f94f-4f50-8d09-8c7c3aadc1eb\">\n",
              "      Upload widget is only available when the cell has been executed in the\n",
              "      current browser session. Please rerun this cell to enable.\n",
              "      </output>\n",
              "      <script src=\"/nbextensions/google.colab/files.js\"></script> "
            ],
            "text/plain": [
              "<IPython.core.display.HTML object>"
            ]
          },
          "metadata": {
            "tags": []
          }
        },
        {
          "output_type": "stream",
          "text": [
            "Saving nba.csv to nba (1).csv\n",
            "Saving employees.csv to employees (1).csv\n"
          ],
          "name": "stdout"
        }
      ]
    },
    {
      "cell_type": "markdown",
      "metadata": {
        "id": "i7Z-JC0d0qgO"
      },
      "source": [
        "## **Import Modules**"
      ]
    },
    {
      "cell_type": "code",
      "metadata": {
        "id": "KDMSHBvswjMT"
      },
      "source": [
        "import pandas as pd\n",
        "import numpy as np\n",
        "import matplotlib.pyplot as plt"
      ],
      "execution_count": 2,
      "outputs": []
    },
    {
      "cell_type": "markdown",
      "metadata": {
        "id": "Ke2LcDA62Wcs"
      },
      "source": [
        "# **EMPLOYEE**"
      ]
    },
    {
      "cell_type": "markdown",
      "metadata": {
        "id": "truIygte0_9V"
      },
      "source": [
        "## **Read data**"
      ]
    },
    {
      "cell_type": "code",
      "metadata": {
        "id": "ThEGcG0mwsuI"
      },
      "source": [
        "df_employee = pd.read_csv(\"employees.csv\")\n",
        "df_employee[\"Start Date\"] = pd.to_datetime(df_employee[\"Start Date\"], format = \"%m/%d/%Y\")\n",
        "df_employee['Last Login Time'] = pd.to_datetime(df_employee['Last Login Time']).dt.strftime('%H:%M')"
      ],
      "execution_count": 3,
      "outputs": []
    },
    {
      "cell_type": "markdown",
      "metadata": {
        "id": "Q6OndzjDx_7Y"
      },
      "source": [
        "## **Basic EDA**"
      ]
    },
    {
      "cell_type": "markdown",
      "metadata": {
        "id": "-GypooVvzrVu"
      },
      "source": [
        "***Top 5 records***"
      ]
    },
    {
      "cell_type": "code",
      "metadata": {
        "id": "1Xqum5UKxeo7",
        "outputId": "56cafe18-d56d-48c6-fde7-a685cfe21392",
        "colab": {
          "base_uri": "https://localhost:8080/",
          "height": 231
        }
      },
      "source": [
        "df_employee.head()"
      ],
      "execution_count": 4,
      "outputs": [
        {
          "output_type": "execute_result",
          "data": {
            "text/html": [
              "<div>\n",
              "<style scoped>\n",
              "    .dataframe tbody tr th:only-of-type {\n",
              "        vertical-align: middle;\n",
              "    }\n",
              "\n",
              "    .dataframe tbody tr th {\n",
              "        vertical-align: top;\n",
              "    }\n",
              "\n",
              "    .dataframe thead th {\n",
              "        text-align: right;\n",
              "    }\n",
              "</style>\n",
              "<table border=\"1\" class=\"dataframe\">\n",
              "  <thead>\n",
              "    <tr style=\"text-align: right;\">\n",
              "      <th></th>\n",
              "      <th>First Name</th>\n",
              "      <th>Gender</th>\n",
              "      <th>Start Date</th>\n",
              "      <th>Last Login Time</th>\n",
              "      <th>Salary</th>\n",
              "      <th>Bonus %</th>\n",
              "      <th>Senior Management</th>\n",
              "      <th>Team</th>\n",
              "    </tr>\n",
              "  </thead>\n",
              "  <tbody>\n",
              "    <tr>\n",
              "      <th>0</th>\n",
              "      <td>Douglas</td>\n",
              "      <td>Male</td>\n",
              "      <td>1993-08-06</td>\n",
              "      <td>12:42</td>\n",
              "      <td>97308</td>\n",
              "      <td>6.945</td>\n",
              "      <td>True</td>\n",
              "      <td>Marketing</td>\n",
              "    </tr>\n",
              "    <tr>\n",
              "      <th>1</th>\n",
              "      <td>Thomas</td>\n",
              "      <td>Male</td>\n",
              "      <td>1996-03-31</td>\n",
              "      <td>06:53</td>\n",
              "      <td>61933</td>\n",
              "      <td>4.170</td>\n",
              "      <td>True</td>\n",
              "      <td>NaN</td>\n",
              "    </tr>\n",
              "    <tr>\n",
              "      <th>2</th>\n",
              "      <td>Maria</td>\n",
              "      <td>Female</td>\n",
              "      <td>1993-04-23</td>\n",
              "      <td>11:17</td>\n",
              "      <td>130590</td>\n",
              "      <td>11.858</td>\n",
              "      <td>False</td>\n",
              "      <td>Finance</td>\n",
              "    </tr>\n",
              "    <tr>\n",
              "      <th>3</th>\n",
              "      <td>Jerry</td>\n",
              "      <td>Male</td>\n",
              "      <td>2005-03-04</td>\n",
              "      <td>13:00</td>\n",
              "      <td>138705</td>\n",
              "      <td>9.340</td>\n",
              "      <td>True</td>\n",
              "      <td>Finance</td>\n",
              "    </tr>\n",
              "    <tr>\n",
              "      <th>4</th>\n",
              "      <td>Larry</td>\n",
              "      <td>Male</td>\n",
              "      <td>1998-01-24</td>\n",
              "      <td>16:47</td>\n",
              "      <td>101004</td>\n",
              "      <td>1.389</td>\n",
              "      <td>True</td>\n",
              "      <td>Client Services</td>\n",
              "    </tr>\n",
              "  </tbody>\n",
              "</table>\n",
              "</div>"
            ],
            "text/plain": [
              "  First Name  Gender Start Date  ... Bonus %  Senior Management             Team\n",
              "0    Douglas    Male 1993-08-06  ...   6.945               True        Marketing\n",
              "1     Thomas    Male 1996-03-31  ...   4.170               True              NaN\n",
              "2      Maria  Female 1993-04-23  ...  11.858              False          Finance\n",
              "3      Jerry    Male 2005-03-04  ...   9.340               True          Finance\n",
              "4      Larry    Male 1998-01-24  ...   1.389               True  Client Services\n",
              "\n",
              "[5 rows x 8 columns]"
            ]
          },
          "metadata": {
            "tags": []
          },
          "execution_count": 4
        }
      ]
    },
    {
      "cell_type": "markdown",
      "metadata": {
        "id": "458zHo6Kz4dm"
      },
      "source": [
        "**Info**"
      ]
    },
    {
      "cell_type": "code",
      "metadata": {
        "id": "GefIg1e8zTjk",
        "outputId": "87761bdc-c687-45e3-9ea9-5516b23f39a2",
        "colab": {
          "base_uri": "https://localhost:8080/"
        }
      },
      "source": [
        "df_employee.info()"
      ],
      "execution_count": 5,
      "outputs": [
        {
          "output_type": "stream",
          "text": [
            "<class 'pandas.core.frame.DataFrame'>\n",
            "RangeIndex: 1000 entries, 0 to 999\n",
            "Data columns (total 8 columns):\n",
            " #   Column             Non-Null Count  Dtype         \n",
            "---  ------             --------------  -----         \n",
            " 0   First Name         933 non-null    object        \n",
            " 1   Gender             855 non-null    object        \n",
            " 2   Start Date         1000 non-null   datetime64[ns]\n",
            " 3   Last Login Time    1000 non-null   object        \n",
            " 4   Salary             1000 non-null   int64         \n",
            " 5   Bonus %            1000 non-null   float64       \n",
            " 6   Senior Management  933 non-null    object        \n",
            " 7   Team               957 non-null    object        \n",
            "dtypes: datetime64[ns](1), float64(1), int64(1), object(5)\n",
            "memory usage: 62.6+ KB\n"
          ],
          "name": "stdout"
        }
      ]
    },
    {
      "cell_type": "markdown",
      "metadata": {
        "id": "VBL-gZtXz88f"
      },
      "source": [
        "***Describe***"
      ]
    },
    {
      "cell_type": "code",
      "metadata": {
        "id": "yNBFyNg-zWq-",
        "outputId": "f5bb4193-1e59-4503-e396-830750de06fb",
        "colab": {
          "base_uri": "https://localhost:8080/",
          "height": 287
        }
      },
      "source": [
        "df_employee.describe()"
      ],
      "execution_count": 6,
      "outputs": [
        {
          "output_type": "execute_result",
          "data": {
            "text/html": [
              "<div>\n",
              "<style scoped>\n",
              "    .dataframe tbody tr th:only-of-type {\n",
              "        vertical-align: middle;\n",
              "    }\n",
              "\n",
              "    .dataframe tbody tr th {\n",
              "        vertical-align: top;\n",
              "    }\n",
              "\n",
              "    .dataframe thead th {\n",
              "        text-align: right;\n",
              "    }\n",
              "</style>\n",
              "<table border=\"1\" class=\"dataframe\">\n",
              "  <thead>\n",
              "    <tr style=\"text-align: right;\">\n",
              "      <th></th>\n",
              "      <th>Salary</th>\n",
              "      <th>Bonus %</th>\n",
              "    </tr>\n",
              "  </thead>\n",
              "  <tbody>\n",
              "    <tr>\n",
              "      <th>count</th>\n",
              "      <td>1000.000000</td>\n",
              "      <td>1000.000000</td>\n",
              "    </tr>\n",
              "    <tr>\n",
              "      <th>mean</th>\n",
              "      <td>90662.181000</td>\n",
              "      <td>10.207555</td>\n",
              "    </tr>\n",
              "    <tr>\n",
              "      <th>std</th>\n",
              "      <td>32923.693342</td>\n",
              "      <td>5.528481</td>\n",
              "    </tr>\n",
              "    <tr>\n",
              "      <th>min</th>\n",
              "      <td>35013.000000</td>\n",
              "      <td>1.015000</td>\n",
              "    </tr>\n",
              "    <tr>\n",
              "      <th>25%</th>\n",
              "      <td>62613.000000</td>\n",
              "      <td>5.401750</td>\n",
              "    </tr>\n",
              "    <tr>\n",
              "      <th>50%</th>\n",
              "      <td>90428.000000</td>\n",
              "      <td>9.838500</td>\n",
              "    </tr>\n",
              "    <tr>\n",
              "      <th>75%</th>\n",
              "      <td>118740.250000</td>\n",
              "      <td>14.838000</td>\n",
              "    </tr>\n",
              "    <tr>\n",
              "      <th>max</th>\n",
              "      <td>149908.000000</td>\n",
              "      <td>19.944000</td>\n",
              "    </tr>\n",
              "  </tbody>\n",
              "</table>\n",
              "</div>"
            ],
            "text/plain": [
              "              Salary      Bonus %\n",
              "count    1000.000000  1000.000000\n",
              "mean    90662.181000    10.207555\n",
              "std     32923.693342     5.528481\n",
              "min     35013.000000     1.015000\n",
              "25%     62613.000000     5.401750\n",
              "50%     90428.000000     9.838500\n",
              "75%    118740.250000    14.838000\n",
              "max    149908.000000    19.944000"
            ]
          },
          "metadata": {
            "tags": []
          },
          "execution_count": 6
        }
      ]
    },
    {
      "cell_type": "markdown",
      "metadata": {
        "id": "ZezHDcMu0Fi8"
      },
      "source": [
        "**Columns**"
      ]
    },
    {
      "cell_type": "code",
      "metadata": {
        "id": "8PtoBm-r0BBb",
        "outputId": "3de5852e-7e5e-463e-98a1-80253ad17c62",
        "colab": {
          "base_uri": "https://localhost:8080/"
        }
      },
      "source": [
        "df_employee.columns"
      ],
      "execution_count": 7,
      "outputs": [
        {
          "output_type": "execute_result",
          "data": {
            "text/plain": [
              "Index(['First Name', 'Gender', 'Start Date', 'Last Login Time', 'Salary',\n",
              "       'Bonus %', 'Senior Management', 'Team'],\n",
              "      dtype='object')"
            ]
          },
          "metadata": {
            "tags": []
          },
          "execution_count": 7
        }
      ]
    },
    {
      "cell_type": "markdown",
      "metadata": {
        "id": "5XPToq4o0IY0"
      },
      "source": [
        "***Data Types***"
      ]
    },
    {
      "cell_type": "code",
      "metadata": {
        "id": "Nhni-Xe30HKk",
        "outputId": "273a234d-7500-4397-ca9d-4311fe5ccb41",
        "colab": {
          "base_uri": "https://localhost:8080/"
        }
      },
      "source": [
        "df_employee.dtypes"
      ],
      "execution_count": 8,
      "outputs": [
        {
          "output_type": "execute_result",
          "data": {
            "text/plain": [
              "First Name                   object\n",
              "Gender                       object\n",
              "Start Date           datetime64[ns]\n",
              "Last Login Time              object\n",
              "Salary                        int64\n",
              "Bonus %                     float64\n",
              "Senior Management            object\n",
              "Team                         object\n",
              "dtype: object"
            ]
          },
          "metadata": {
            "tags": []
          },
          "execution_count": 8
        }
      ]
    },
    {
      "cell_type": "markdown",
      "metadata": {
        "id": "0miOEca80PcK"
      },
      "source": [
        "**Missing Values**"
      ]
    },
    {
      "cell_type": "code",
      "metadata": {
        "id": "KQXY7LVJ0NdE",
        "outputId": "a99aff4f-977e-4eeb-fd07-f3710745cea7",
        "colab": {
          "base_uri": "https://localhost:8080/"
        }
      },
      "source": [
        "df_employee.isnull().sum()"
      ],
      "execution_count": 9,
      "outputs": [
        {
          "output_type": "execute_result",
          "data": {
            "text/plain": [
              "First Name            67\n",
              "Gender               145\n",
              "Start Date             0\n",
              "Last Login Time        0\n",
              "Salary                 0\n",
              "Bonus %                0\n",
              "Senior Management     67\n",
              "Team                  43\n",
              "dtype: int64"
            ]
          },
          "metadata": {
            "tags": []
          },
          "execution_count": 9
        }
      ]
    },
    {
      "cell_type": "markdown",
      "metadata": {
        "id": "_-jwccnT0Yuk"
      },
      "source": [
        "***NULL values***"
      ]
    },
    {
      "cell_type": "code",
      "metadata": {
        "id": "_uYkHc2b0X_-",
        "outputId": "bc6f274b-d166-444e-ca20-63c98e5596ae",
        "colab": {
          "base_uri": "https://localhost:8080/"
        }
      },
      "source": [
        "df_employee.isna().sum()"
      ],
      "execution_count": 10,
      "outputs": [
        {
          "output_type": "execute_result",
          "data": {
            "text/plain": [
              "First Name            67\n",
              "Gender               145\n",
              "Start Date             0\n",
              "Last Login Time        0\n",
              "Salary                 0\n",
              "Bonus %                0\n",
              "Senior Management     67\n",
              "Team                  43\n",
              "dtype: int64"
            ]
          },
          "metadata": {
            "tags": []
          },
          "execution_count": 10
        }
      ]
    },
    {
      "cell_type": "markdown",
      "metadata": {
        "id": "ua8O2kxy51yw"
      },
      "source": [
        "***Shape***"
      ]
    },
    {
      "cell_type": "code",
      "metadata": {
        "id": "P7lz5aeJ0fcQ",
        "outputId": "44db58dc-bc00-4106-e5ca-0544d905039a",
        "colab": {
          "base_uri": "https://localhost:8080/"
        }
      },
      "source": [
        "df_employee.shape"
      ],
      "execution_count": 11,
      "outputs": [
        {
          "output_type": "execute_result",
          "data": {
            "text/plain": [
              "(1000, 8)"
            ]
          },
          "metadata": {
            "tags": []
          },
          "execution_count": 11
        }
      ]
    },
    {
      "cell_type": "markdown",
      "metadata": {
        "id": "iDywSAfG59Gr"
      },
      "source": [
        "## **Nan values**\n",
        "\n",
        "знайти та відобразити стовпці таблиці, які мають\n",
        "пропущені дані; \n",
        "видалити рядки з пропусками даних"
      ]
    },
    {
      "cell_type": "markdown",
      "metadata": {
        "id": "InYexJho6GiZ"
      },
      "source": [
        "Shape"
      ]
    },
    {
      "cell_type": "code",
      "metadata": {
        "id": "SXB34TAw6GIS",
        "outputId": "22768dc8-fef2-47b7-b022-b463991ed806",
        "colab": {
          "base_uri": "https://localhost:8080/"
        }
      },
      "source": [
        "df_employee.shape\n",
        "print(f\"Columns: {df_employee.shape[1]}\\nRows: {df_employee.shape[0]}\")"
      ],
      "execution_count": 12,
      "outputs": [
        {
          "output_type": "stream",
          "text": [
            "Columns: 8\n",
            "Rows: 1000\n"
          ],
          "name": "stdout"
        }
      ]
    },
    {
      "cell_type": "markdown",
      "metadata": {
        "id": "jgRUjST96i9A"
      },
      "source": [
        "Count of nan values in columns"
      ]
    },
    {
      "cell_type": "code",
      "metadata": {
        "id": "j1W3abSP2UkY",
        "outputId": "1b91d436-2255-4345-c0ab-161c098efd6d",
        "colab": {
          "base_uri": "https://localhost:8080/"
        }
      },
      "source": [
        "df_employee.isna().sum()"
      ],
      "execution_count": 13,
      "outputs": [
        {
          "output_type": "execute_result",
          "data": {
            "text/plain": [
              "First Name            67\n",
              "Gender               145\n",
              "Start Date             0\n",
              "Last Login Time        0\n",
              "Salary                 0\n",
              "Bonus %                0\n",
              "Senior Management     67\n",
              "Team                  43\n",
              "dtype: int64"
            ]
          },
          "metadata": {
            "tags": []
          },
          "execution_count": 13
        }
      ]
    },
    {
      "cell_type": "markdown",
      "metadata": {
        "id": "JCH54zvm6rIM"
      },
      "source": [
        "Drop rows with NaN values"
      ]
    },
    {
      "cell_type": "code",
      "metadata": {
        "id": "KzZ2SZFi2hbY"
      },
      "source": [
        "df_employee.dropna(axis=0, inplace=True)"
      ],
      "execution_count": 14,
      "outputs": []
    },
    {
      "cell_type": "markdown",
      "metadata": {
        "id": "fjfl_9vR7ZOj"
      },
      "source": [
        "**Shape**"
      ]
    },
    {
      "cell_type": "code",
      "metadata": {
        "id": "dBNZfps-7ZOl",
        "outputId": "cab8ca97-092b-4ed9-a0a0-306da7ff1922",
        "colab": {
          "base_uri": "https://localhost:8080/"
        }
      },
      "source": [
        "df_employee.shape\n",
        "print(f\"Columns: {df_employee.shape[1]}\\nRows: {df_employee.shape[0]}\")"
      ],
      "execution_count": 15,
      "outputs": [
        {
          "output_type": "stream",
          "text": [
            "Columns: 8\n",
            "Rows: 764\n"
          ],
          "name": "stdout"
        }
      ]
    },
    {
      "cell_type": "markdown",
      "metadata": {
        "id": "GQvufj7H7UgC"
      },
      "source": [
        "Count of nan values in columns"
      ]
    },
    {
      "cell_type": "code",
      "metadata": {
        "id": "-p9Kv4i_7UgF",
        "outputId": "af1c2a58-44e1-4c0c-8548-e4be1ab072aa",
        "colab": {
          "base_uri": "https://localhost:8080/"
        }
      },
      "source": [
        "df_employee.isna().sum()"
      ],
      "execution_count": 16,
      "outputs": [
        {
          "output_type": "execute_result",
          "data": {
            "text/plain": [
              "First Name           0\n",
              "Gender               0\n",
              "Start Date           0\n",
              "Last Login Time      0\n",
              "Salary               0\n",
              "Bonus %              0\n",
              "Senior Management    0\n",
              "Team                 0\n",
              "dtype: int64"
            ]
          },
          "metadata": {
            "tags": []
          },
          "execution_count": 16
        }
      ]
    },
    {
      "cell_type": "markdown",
      "metadata": {
        "id": "lZq1x0mF8zlA"
      },
      "source": [
        "## **Aggregation functions + Visualisation**"
      ]
    },
    {
      "cell_type": "markdown",
      "metadata": {
        "id": "25CmRlk_Iy5R"
      },
      "source": [
        "**mean()**"
      ]
    },
    {
      "cell_type": "code",
      "metadata": {
        "id": "KS4oQovU8eFk",
        "outputId": "4686175e-7ac5-4f24-d4c3-695529b20f18",
        "colab": {
          "base_uri": "https://localhost:8080/"
        }
      },
      "source": [
        "df_employee.groupby(['Gender', 'Team'])['Salary'].mean()"
      ],
      "execution_count": 17,
      "outputs": [
        {
          "output_type": "execute_result",
          "data": {
            "text/plain": [
              "Gender  Team                \n",
              "Female  Business Development    92645.020408\n",
              "        Client Services         85742.723404\n",
              "        Distribution            79812.161290\n",
              "        Engineering             89708.139535\n",
              "        Finance                 93483.333333\n",
              "        Human Resources         89835.878788\n",
              "        Legal                   91749.242424\n",
              "        Marketing               97116.555556\n",
              "        Product                 86333.704545\n",
              "        Sales                   90055.628571\n",
              "Male    Business Development    87851.000000\n",
              "        Client Services         93781.789474\n",
              "        Distribution            92302.379310\n",
              "        Engineering             99937.027778\n",
              "        Finance                 95663.842105\n",
              "        Human Resources         92149.976744\n",
              "        Legal                   84491.882353\n",
              "        Marketing               84745.947368\n",
              "        Product                 87615.435897\n",
              "        Sales                   93303.783784\n",
              "Name: Salary, dtype: float64"
            ]
          },
          "metadata": {
            "tags": []
          },
          "execution_count": 17
        }
      ]
    },
    {
      "cell_type": "code",
      "metadata": {
        "id": "xJDVLHPV8y8B",
        "outputId": "0a085640-5dc1-4d21-e098-4961276b9562",
        "colab": {
          "base_uri": "https://localhost:8080/",
          "height": 305
        }
      },
      "source": [
        "df_employee.groupby(['Gender', 'Team'])['Salary'].mean().unstack(level=0).plot(kind='barh')\n",
        "plt.xlabel(\"Salary ($)\", fontsize=20)\n",
        "plt.ylabel(\"Team\", fontsize=20)\n",
        "plt.legend(loc = 2)"
      ],
      "execution_count": 18,
      "outputs": [
        {
          "output_type": "execute_result",
          "data": {
            "text/plain": [
              "<matplotlib.legend.Legend at 0x7fd0e43b3358>"
            ]
          },
          "metadata": {
            "tags": []
          },
          "execution_count": 18
        },
        {
          "output_type": "display_data",
          "data": {
            "image/png": "[encoded data removed]",
            "text/plain": [
              "<Figure size 432x288 with 1 Axes>"
            ]
          },
          "metadata": {
            "tags": [],
            "needs_background": "light"
          }
        }
      ]
    },
    {
      "cell_type": "markdown",
      "metadata": {
        "id": "D-stVzLYIv6o"
      },
      "source": [
        "**min()**"
      ]
    },
    {
      "cell_type": "code",
      "metadata": {
        "id": "3hLUrlOEd6C8",
        "outputId": "ee62cfa1-84a4-4e62-e889-c133a638c33d",
        "colab": {
          "base_uri": "https://localhost:8080/"
        }
      },
      "source": [
        "df_employee.groupby(['Team'])['Salary'].min()"
      ],
      "execution_count": 19,
      "outputs": [
        {
          "output_type": "execute_result",
          "data": {
            "text/plain": [
              "Team\n",
              "Business Development    36844\n",
              "Client Services         35095\n",
              "Distribution            35575\n",
              "Engineering             36946\n",
              "Finance                 35381\n",
              "Human Resources         35203\n",
              "Legal                   35061\n",
              "Marketing               36643\n",
              "Product                 35013\n",
              "Sales                   35802\n",
              "Name: Salary, dtype: int64"
            ]
          },
          "metadata": {
            "tags": []
          },
          "execution_count": 19
        }
      ]
    },
    {
      "cell_type": "markdown",
      "metadata": {
        "id": "NhP_mhood-e2"
      },
      "source": [
        "**max()**"
      ]
    },
    {
      "cell_type": "code",
      "metadata": {
        "id": "DjrGGvKmbasU",
        "outputId": "8f696f80-92e5-48a6-9734-2cb583bd1f1a",
        "colab": {
          "base_uri": "https://localhost:8080/"
        }
      },
      "source": [
        "df_employee.groupby(['Team'])['Salary'].max()"
      ],
      "execution_count": 20,
      "outputs": [
        {
          "output_type": "execute_result",
          "data": {
            "text/plain": [
              "Team\n",
              "Business Development    147417\n",
              "Client Services         147183\n",
              "Distribution            149105\n",
              "Engineering             147362\n",
              "Finance                 149908\n",
              "Human Resources         149903\n",
              "Legal                   148985\n",
              "Marketing               146812\n",
              "Product                 149684\n",
              "Sales                   144887\n",
              "Name: Salary, dtype: int64"
            ]
          },
          "metadata": {
            "tags": []
          },
          "execution_count": 20
        }
      ]
    },
    {
      "cell_type": "markdown",
      "metadata": {
        "id": "SaXLVb7gI3mG"
      },
      "source": [
        "**Plot min and max salary for each Team**"
      ]
    },
    {
      "cell_type": "code",
      "metadata": {
        "id": "mpuADUA2J6rv",
        "outputId": "b60e403a-66ea-452e-a6ba-56e6545808fa",
        "colab": {
          "base_uri": "https://localhost:8080/",
          "height": 305
        }
      },
      "source": [
        "df_employee.groupby(['Team']).agg({'Salary': [np.min,np.max]}).\\\n",
        "plot.barh(stacked=True)\n",
        "plt.axvline(df_employee['Salary'].mean(), color='red', linewidth=2)\n",
        "plt.xlabel(\"Min and Max salary ($)\", fontsize=20)\n",
        "plt.ylabel(\"Team\", fontsize=20)\n",
        "plt.legend(['Average','Min', 'Max'])"
      ],
      "execution_count": 21,
      "outputs": [
        {
          "output_type": "execute_result",
          "data": {
            "text/plain": [
              "<matplotlib.legend.Legend at 0x7fd0e32109b0>"
            ]
          },
          "metadata": {
            "tags": []
          },
          "execution_count": 21
        },
        {
          "output_type": "display_data",
          "data": {
            "image/png": "[encoded data removed]",
            "text/plain": [
              "<Figure size 432x288 with 1 Axes>"
            ]
          },
          "metadata": {
            "tags": [],
            "needs_background": "light"
          }
        }
      ]
    },
    {
      "cell_type": "markdown",
      "metadata": {
        "id": "oR6hpb0Az9ok"
      },
      "source": [
        "**mode**"
      ]
    },
    {
      "cell_type": "code",
      "metadata": {
        "id": "5wxas-2qworc",
        "outputId": "37c14bd2-7032-425e-a5a1-62ad33777bc4",
        "colab": {
          "base_uri": "https://localhost:8080/"
        }
      },
      "source": [
        "df_employee.groupby(['Team', 'Senior Management'])['Salary'].agg(lambda x:x.value_counts().index[0])"
      ],
      "execution_count": 22,
      "outputs": [
        {
          "output_type": "execute_result",
          "data": {
            "text/plain": [
              "Team                  Senior Management\n",
              "Business Development  False                107050\n",
              "                      True                 121477\n",
              "Client Services       False                 62719\n",
              "                      True                  83341\n",
              "Distribution          False                 43050\n",
              "                      True                  58047\n",
              "Engineering           False                 43455\n",
              "                      True                  59070\n",
              "Finance               False                 81215\n",
              "                      True                 115711\n",
              "Human Resources       False                 96511\n",
              "                      True                  98858\n",
              "Legal                 False                121918\n",
              "                      True                 128042\n",
              "Marketing             False                117055\n",
              "                      True                 107391\n",
              "Product               False                123711\n",
              "                      True                  38078\n",
              "Sales                 False                 92799\n",
              "                      True                 124889\n",
              "Name: Salary, dtype: int64"
            ]
          },
          "metadata": {
            "tags": []
          },
          "execution_count": 22
        }
      ]
    },
    {
      "cell_type": "code",
      "metadata": {
        "id": "0CLe5Bfu0NLz"
      },
      "source": [
        ""
      ],
      "execution_count": 22,
      "outputs": []
    },
    {
      "cell_type": "code",
      "metadata": {
        "id": "0GcF_Vvw3c4T"
      },
      "source": [
        ""
      ],
      "execution_count": 22,
      "outputs": []
    },
    {
      "cell_type": "code",
      "metadata": {
        "id": "Ukf5-Tol3c__"
      },
      "source": [
        ""
      ],
      "execution_count": 22,
      "outputs": []
    },
    {
      "cell_type": "code",
      "metadata": {
        "id": "HrYKMkPx3cnh"
      },
      "source": [
        ""
      ],
      "execution_count": 22,
      "outputs": []
    },
    {
      "cell_type": "markdown",
      "metadata": {
        "id": "G2xlZQ-x3eqO"
      },
      "source": [
        "# **NBA**"
      ]
    },
    {
      "cell_type": "markdown",
      "metadata": {
        "id": "lB3r0o2l38Sz"
      },
      "source": [
        "## **Read data**"
      ]
    },
    {
      "cell_type": "code",
      "metadata": {
        "id": "2jRW9LOl38S1"
      },
      "source": [
        "df_nba = pd.read_csv(\"nba.csv\")"
      ],
      "execution_count": 23,
      "outputs": []
    },
    {
      "cell_type": "markdown",
      "metadata": {
        "id": "PE4lz9wnE9sX"
      },
      "source": [
        ""
      ]
    },
    {
      "cell_type": "markdown",
      "metadata": {
        "id": "xXZjg_xp38S8"
      },
      "source": [
        "## **Basic EDA**"
      ]
    },
    {
      "cell_type": "markdown",
      "metadata": {
        "id": "MEbtHlIb38S9"
      },
      "source": [
        "***Top 5 records***"
      ]
    },
    {
      "cell_type": "code",
      "metadata": {
        "id": "aoZSKlMh38S-",
        "outputId": "abbb6187-5c4f-420c-dbbd-9dd3d601fa8e",
        "colab": {
          "base_uri": "https://localhost:8080/",
          "height": 281
        }
      },
      "source": [
        "df_nba.head()"
      ],
      "execution_count": 24,
      "outputs": [
        {
          "output_type": "execute_result",
          "data": {
            "text/html": [
              "<div>\n",
              "<style scoped>\n",
              "    .dataframe tbody tr th:only-of-type {\n",
              "        vertical-align: middle;\n",
              "    }\n",
              "\n",
              "    .dataframe tbody tr th {\n",
              "        vertical-align: top;\n",
              "    }\n",
              "\n",
              "    .dataframe thead th {\n",
              "        text-align: right;\n",
              "    }\n",
              "</style>\n",
              "<table border=\"1\" class=\"dataframe\">\n",
              "  <thead>\n",
              "    <tr style=\"text-align: right;\">\n",
              "      <th></th>\n",
              "      <th>Name</th>\n",
              "      <th>Team</th>\n",
              "      <th>Number</th>\n",
              "      <th>Position</th>\n",
              "      <th>Age</th>\n",
              "      <th>Height</th>\n",
              "      <th>Weight</th>\n",
              "      <th>College</th>\n",
              "      <th>Salary</th>\n",
              "    </tr>\n",
              "  </thead>\n",
              "  <tbody>\n",
              "    <tr>\n",
              "      <th>0</th>\n",
              "      <td>Avery Bradley</td>\n",
              "      <td>Boston Celtics</td>\n",
              "      <td>0.0</td>\n",
              "      <td>PG</td>\n",
              "      <td>25.0</td>\n",
              "      <td>6-2</td>\n",
              "      <td>180.0</td>\n",
              "      <td>Texas</td>\n",
              "      <td>7730337.0</td>\n",
              "    </tr>\n",
              "    <tr>\n",
              "      <th>1</th>\n",
              "      <td>Jae Crowder</td>\n",
              "      <td>Boston Celtics</td>\n",
              "      <td>99.0</td>\n",
              "      <td>SF</td>\n",
              "      <td>25.0</td>\n",
              "      <td>6-6</td>\n",
              "      <td>235.0</td>\n",
              "      <td>Marquette</td>\n",
              "      <td>6796117.0</td>\n",
              "    </tr>\n",
              "    <tr>\n",
              "      <th>2</th>\n",
              "      <td>John Holland</td>\n",
              "      <td>Boston Celtics</td>\n",
              "      <td>30.0</td>\n",
              "      <td>SG</td>\n",
              "      <td>27.0</td>\n",
              "      <td>6-5</td>\n",
              "      <td>205.0</td>\n",
              "      <td>Boston University</td>\n",
              "      <td>NaN</td>\n",
              "    </tr>\n",
              "    <tr>\n",
              "      <th>3</th>\n",
              "      <td>R.J. Hunter</td>\n",
              "      <td>Boston Celtics</td>\n",
              "      <td>28.0</td>\n",
              "      <td>SG</td>\n",
              "      <td>22.0</td>\n",
              "      <td>6-5</td>\n",
              "      <td>185.0</td>\n",
              "      <td>Georgia State</td>\n",
              "      <td>1148640.0</td>\n",
              "    </tr>\n",
              "    <tr>\n",
              "      <th>4</th>\n",
              "      <td>Jonas Jerebko</td>\n",
              "      <td>Boston Celtics</td>\n",
              "      <td>8.0</td>\n",
              "      <td>PF</td>\n",
              "      <td>29.0</td>\n",
              "      <td>6-10</td>\n",
              "      <td>231.0</td>\n",
              "      <td>NaN</td>\n",
              "      <td>5000000.0</td>\n",
              "    </tr>\n",
              "  </tbody>\n",
              "</table>\n",
              "</div>"
            ],
            "text/plain": [
              "            Name            Team  Number  ... Weight            College     Salary\n",
              "0  Avery Bradley  Boston Celtics     0.0  ...  180.0              Texas  7730337.0\n",
              "1    Jae Crowder  Boston Celtics    99.0  ...  235.0          Marquette  6796117.0\n",
              "2   John Holland  Boston Celtics    30.0  ...  205.0  Boston University        NaN\n",
              "3    R.J. Hunter  Boston Celtics    28.0  ...  185.0      Georgia State  1148640.0\n",
              "4  Jonas Jerebko  Boston Celtics     8.0  ...  231.0                NaN  5000000.0\n",
              "\n",
              "[5 rows x 9 columns]"
            ]
          },
          "metadata": {
            "tags": []
          },
          "execution_count": 24
        }
      ]
    },
    {
      "cell_type": "markdown",
      "metadata": {
        "id": "7dv1miVq38TI"
      },
      "source": [
        "**Info**"
      ]
    },
    {
      "cell_type": "code",
      "metadata": {
        "id": "nSF-xygF38TJ",
        "outputId": "d108e696-1dc4-4c18-f6dc-f0b6e2e3ea05",
        "colab": {
          "base_uri": "https://localhost:8080/"
        }
      },
      "source": [
        "df_nba.info()"
      ],
      "execution_count": 25,
      "outputs": [
        {
          "output_type": "stream",
          "text": [
            "<class 'pandas.core.frame.DataFrame'>\n",
            "RangeIndex: 458 entries, 0 to 457\n",
            "Data columns (total 9 columns):\n",
            " #   Column    Non-Null Count  Dtype  \n",
            "---  ------    --------------  -----  \n",
            " 0   Name      457 non-null    object \n",
            " 1   Team      457 non-null    object \n",
            " 2   Number    457 non-null    float64\n",
            " 3   Position  457 non-null    object \n",
            " 4   Age       457 non-null    float64\n",
            " 5   Height    457 non-null    object \n",
            " 6   Weight    457 non-null    float64\n",
            " 7   College   373 non-null    object \n",
            " 8   Salary    446 non-null    float64\n",
            "dtypes: float64(4), object(5)\n",
            "memory usage: 32.3+ KB\n"
          ],
          "name": "stdout"
        }
      ]
    },
    {
      "cell_type": "markdown",
      "metadata": {
        "id": "u-4Djqp938TR"
      },
      "source": [
        "***Describe***"
      ]
    },
    {
      "cell_type": "code",
      "metadata": {
        "id": "e3vKuPv238TS",
        "outputId": "df51247f-1e49-41ac-af70-6ac749c4a512",
        "colab": {
          "base_uri": "https://localhost:8080/",
          "height": 287
        }
      },
      "source": [
        "df_nba.describe()"
      ],
      "execution_count": 26,
      "outputs": [
        {
          "output_type": "execute_result",
          "data": {
            "text/html": [
              "<div>\n",
              "<style scoped>\n",
              "    .dataframe tbody tr th:only-of-type {\n",
              "        vertical-align: middle;\n",
              "    }\n",
              "\n",
              "    .dataframe tbody tr th {\n",
              "        vertical-align: top;\n",
              "    }\n",
              "\n",
              "    .dataframe thead th {\n",
              "        text-align: right;\n",
              "    }\n",
              "</style>\n",
              "<table border=\"1\" class=\"dataframe\">\n",
              "  <thead>\n",
              "    <tr style=\"text-align: right;\">\n",
              "      <th></th>\n",
              "      <th>Number</th>\n",
              "      <th>Age</th>\n",
              "      <th>Weight</th>\n",
              "      <th>Salary</th>\n",
              "    </tr>\n",
              "  </thead>\n",
              "  <tbody>\n",
              "    <tr>\n",
              "      <th>count</th>\n",
              "      <td>457.000000</td>\n",
              "      <td>457.000000</td>\n",
              "      <td>457.000000</td>\n",
              "      <td>4.460000e+02</td>\n",
              "    </tr>\n",
              "    <tr>\n",
              "      <th>mean</th>\n",
              "      <td>17.678337</td>\n",
              "      <td>26.938731</td>\n",
              "      <td>221.522976</td>\n",
              "      <td>4.842684e+06</td>\n",
              "    </tr>\n",
              "    <tr>\n",
              "      <th>std</th>\n",
              "      <td>15.966090</td>\n",
              "      <td>4.404016</td>\n",
              "      <td>26.368343</td>\n",
              "      <td>5.229238e+06</td>\n",
              "    </tr>\n",
              "    <tr>\n",
              "      <th>min</th>\n",
              "      <td>0.000000</td>\n",
              "      <td>19.000000</td>\n",
              "      <td>161.000000</td>\n",
              "      <td>3.088800e+04</td>\n",
              "    </tr>\n",
              "    <tr>\n",
              "      <th>25%</th>\n",
              "      <td>5.000000</td>\n",
              "      <td>24.000000</td>\n",
              "      <td>200.000000</td>\n",
              "      <td>1.044792e+06</td>\n",
              "    </tr>\n",
              "    <tr>\n",
              "      <th>50%</th>\n",
              "      <td>13.000000</td>\n",
              "      <td>26.000000</td>\n",
              "      <td>220.000000</td>\n",
              "      <td>2.839073e+06</td>\n",
              "    </tr>\n",
              "    <tr>\n",
              "      <th>75%</th>\n",
              "      <td>25.000000</td>\n",
              "      <td>30.000000</td>\n",
              "      <td>240.000000</td>\n",
              "      <td>6.500000e+06</td>\n",
              "    </tr>\n",
              "    <tr>\n",
              "      <th>max</th>\n",
              "      <td>99.000000</td>\n",
              "      <td>40.000000</td>\n",
              "      <td>307.000000</td>\n",
              "      <td>2.500000e+07</td>\n",
              "    </tr>\n",
              "  </tbody>\n",
              "</table>\n",
              "</div>"
            ],
            "text/plain": [
              "           Number         Age      Weight        Salary\n",
              "count  457.000000  457.000000  457.000000  4.460000e+02\n",
              "mean    17.678337   26.938731  221.522976  4.842684e+06\n",
              "std     15.966090    4.404016   26.368343  5.229238e+06\n",
              "min      0.000000   19.000000  161.000000  3.088800e+04\n",
              "25%      5.000000   24.000000  200.000000  1.044792e+06\n",
              "50%     13.000000   26.000000  220.000000  2.839073e+06\n",
              "75%     25.000000   30.000000  240.000000  6.500000e+06\n",
              "max     99.000000   40.000000  307.000000  2.500000e+07"
            ]
          },
          "metadata": {
            "tags": []
          },
          "execution_count": 26
        }
      ]
    },
    {
      "cell_type": "markdown",
      "metadata": {
        "id": "9jkkRUB938Ta"
      },
      "source": [
        "**Columns**"
      ]
    },
    {
      "cell_type": "code",
      "metadata": {
        "id": "5ZMYFXg938Tb",
        "outputId": "965e7809-ceb7-40d4-9f74-574a663c4f6f",
        "colab": {
          "base_uri": "https://localhost:8080/"
        }
      },
      "source": [
        "df_nba.columns"
      ],
      "execution_count": 27,
      "outputs": [
        {
          "output_type": "execute_result",
          "data": {
            "text/plain": [
              "Index(['Name', 'Team', 'Number', 'Position', 'Age', 'Height', 'Weight',\n",
              "       'College', 'Salary'],\n",
              "      dtype='object')"
            ]
          },
          "metadata": {
            "tags": []
          },
          "execution_count": 27
        }
      ]
    },
    {
      "cell_type": "markdown",
      "metadata": {
        "id": "8Gk5j3h238Tm"
      },
      "source": [
        "***Data Types***"
      ]
    },
    {
      "cell_type": "code",
      "metadata": {
        "id": "9jFBL2-e38Tn",
        "outputId": "621f6439-a3e1-4b3d-f2c6-51864cc998eb",
        "colab": {
          "base_uri": "https://localhost:8080/"
        }
      },
      "source": [
        "df_nba.dtypes"
      ],
      "execution_count": 28,
      "outputs": [
        {
          "output_type": "execute_result",
          "data": {
            "text/plain": [
              "Name         object\n",
              "Team         object\n",
              "Number      float64\n",
              "Position     object\n",
              "Age         float64\n",
              "Height       object\n",
              "Weight      float64\n",
              "College      object\n",
              "Salary      float64\n",
              "dtype: object"
            ]
          },
          "metadata": {
            "tags": []
          },
          "execution_count": 28
        }
      ]
    },
    {
      "cell_type": "markdown",
      "metadata": {
        "id": "jDTY3zX_38Tu"
      },
      "source": [
        "**Missing Values**"
      ]
    },
    {
      "cell_type": "code",
      "metadata": {
        "id": "aqWP7YI138Tw",
        "outputId": "2cab2078-d423-4552-8210-2a6f4617132a",
        "colab": {
          "base_uri": "https://localhost:8080/"
        }
      },
      "source": [
        "df_nba.isnull().sum()"
      ],
      "execution_count": 29,
      "outputs": [
        {
          "output_type": "execute_result",
          "data": {
            "text/plain": [
              "Name         1\n",
              "Team         1\n",
              "Number       1\n",
              "Position     1\n",
              "Age          1\n",
              "Height       1\n",
              "Weight       1\n",
              "College     85\n",
              "Salary      12\n",
              "dtype: int64"
            ]
          },
          "metadata": {
            "tags": []
          },
          "execution_count": 29
        }
      ]
    },
    {
      "cell_type": "markdown",
      "metadata": {
        "id": "1UHpDpaq38T3"
      },
      "source": [
        "***NULL values***"
      ]
    },
    {
      "cell_type": "code",
      "metadata": {
        "id": "K6fI-b-_38T4",
        "outputId": "b70efb4f-22fa-47db-dbdf-431e33dfefc4",
        "colab": {
          "base_uri": "https://localhost:8080/"
        }
      },
      "source": [
        "df_nba.isna().sum()"
      ],
      "execution_count": 30,
      "outputs": [
        {
          "output_type": "execute_result",
          "data": {
            "text/plain": [
              "Name         1\n",
              "Team         1\n",
              "Number       1\n",
              "Position     1\n",
              "Age          1\n",
              "Height       1\n",
              "Weight       1\n",
              "College     85\n",
              "Salary      12\n",
              "dtype: int64"
            ]
          },
          "metadata": {
            "tags": []
          },
          "execution_count": 30
        }
      ]
    },
    {
      "cell_type": "markdown",
      "metadata": {
        "id": "tA3MC57o38UE"
      },
      "source": [
        "***Shape***"
      ]
    },
    {
      "cell_type": "code",
      "metadata": {
        "id": "HzlFRjCa38UG",
        "outputId": "c99f2a52-dfa2-4f5e-fa38-80941133676e",
        "colab": {
          "base_uri": "https://localhost:8080/"
        }
      },
      "source": [
        "df_nba.shape"
      ],
      "execution_count": 31,
      "outputs": [
        {
          "output_type": "execute_result",
          "data": {
            "text/plain": [
              "(458, 9)"
            ]
          },
          "metadata": {
            "tags": []
          },
          "execution_count": 31
        }
      ]
    },
    {
      "cell_type": "markdown",
      "metadata": {
        "id": "7S0KnX0j38UO"
      },
      "source": [
        "## **Delete NaN values**\n"
      ]
    },
    {
      "cell_type": "markdown",
      "metadata": {
        "id": "OhdVFl-838UP"
      },
      "source": [
        "Shape"
      ]
    },
    {
      "cell_type": "code",
      "metadata": {
        "id": "RymOyyGH38UQ",
        "outputId": "1f37fe65-f90c-4a95-ea50-0729d116acc1",
        "colab": {
          "base_uri": "https://localhost:8080/"
        }
      },
      "source": [
        "df_nba.shape\n",
        "print(f\"Columns: {df_nba.shape[1]}\\nRows: {df_nba.shape[0]}\")"
      ],
      "execution_count": 32,
      "outputs": [
        {
          "output_type": "stream",
          "text": [
            "Columns: 9\n",
            "Rows: 458\n"
          ],
          "name": "stdout"
        }
      ]
    },
    {
      "cell_type": "markdown",
      "metadata": {
        "id": "N1uin8mD38Ua"
      },
      "source": [
        "Count of nan values in columns"
      ]
    },
    {
      "cell_type": "code",
      "metadata": {
        "id": "R_alVhw238Uc",
        "outputId": "6006f8eb-ef55-45db-9385-1076267d894a",
        "colab": {
          "base_uri": "https://localhost:8080/"
        }
      },
      "source": [
        "df_nba.isna().sum()"
      ],
      "execution_count": 33,
      "outputs": [
        {
          "output_type": "execute_result",
          "data": {
            "text/plain": [
              "Name         1\n",
              "Team         1\n",
              "Number       1\n",
              "Position     1\n",
              "Age          1\n",
              "Height       1\n",
              "Weight       1\n",
              "College     85\n",
              "Salary      12\n",
              "dtype: int64"
            ]
          },
          "metadata": {
            "tags": []
          },
          "execution_count": 33
        }
      ]
    },
    {
      "cell_type": "markdown",
      "metadata": {
        "id": "TpqUkvu838Ui"
      },
      "source": [
        "Drop rows with NaN values"
      ]
    },
    {
      "cell_type": "code",
      "metadata": {
        "id": "49sBOIsb38Uk"
      },
      "source": [
        "df_nba.dropna(axis=0, inplace=True)"
      ],
      "execution_count": 34,
      "outputs": []
    },
    {
      "cell_type": "markdown",
      "metadata": {
        "id": "RrEs_Z_H38Ut"
      },
      "source": [
        "**Shape**"
      ]
    },
    {
      "cell_type": "code",
      "metadata": {
        "id": "hiI0SEd738Uu",
        "outputId": "e7033668-0a1c-4372-f145-4c0fdec023d7",
        "colab": {
          "base_uri": "https://localhost:8080/"
        }
      },
      "source": [
        "df_nba.shape\n",
        "print(f\"Columns: {df_employee.shape[1]}\\nRows: {df_nba.shape[0]}\")"
      ],
      "execution_count": 35,
      "outputs": [
        {
          "output_type": "stream",
          "text": [
            "Columns: 8\n",
            "Rows: 364\n"
          ],
          "name": "stdout"
        }
      ]
    },
    {
      "cell_type": "markdown",
      "metadata": {
        "id": "vPffqcf538U1"
      },
      "source": [
        "Count of nan values in columns"
      ]
    },
    {
      "cell_type": "code",
      "metadata": {
        "id": "h4GJWfdk38U2",
        "outputId": "b4ff7101-374f-4c30-99ea-70bbdbe8a343",
        "colab": {
          "base_uri": "https://localhost:8080/"
        }
      },
      "source": [
        "df_nba.isna().sum()"
      ],
      "execution_count": 36,
      "outputs": [
        {
          "output_type": "execute_result",
          "data": {
            "text/plain": [
              "Name        0\n",
              "Team        0\n",
              "Number      0\n",
              "Position    0\n",
              "Age         0\n",
              "Height      0\n",
              "Weight      0\n",
              "College     0\n",
              "Salary      0\n",
              "dtype: int64"
            ]
          },
          "metadata": {
            "tags": []
          },
          "execution_count": 36
        }
      ]
    },
    {
      "cell_type": "markdown",
      "metadata": {
        "id": "vgIvHJps38U-"
      },
      "source": [
        "## **Data conversion**"
      ]
    },
    {
      "cell_type": "code",
      "metadata": {
        "id": "KCduLYYYejt0",
        "outputId": "ba4456b6-b87f-4199-e4ae-bbeb376c74ed",
        "colab": {
          "base_uri": "https://localhost:8080/",
          "height": 197
        }
      },
      "source": [
        "df_nba.head()"
      ],
      "execution_count": 37,
      "outputs": [
        {
          "output_type": "execute_result",
          "data": {
            "text/html": [
              "<div>\n",
              "<style scoped>\n",
              "    .dataframe tbody tr th:only-of-type {\n",
              "        vertical-align: middle;\n",
              "    }\n",
              "\n",
              "    .dataframe tbody tr th {\n",
              "        vertical-align: top;\n",
              "    }\n",
              "\n",
              "    .dataframe thead th {\n",
              "        text-align: right;\n",
              "    }\n",
              "</style>\n",
              "<table border=\"1\" class=\"dataframe\">\n",
              "  <thead>\n",
              "    <tr style=\"text-align: right;\">\n",
              "      <th></th>\n",
              "      <th>Name</th>\n",
              "      <th>Team</th>\n",
              "      <th>Number</th>\n",
              "      <th>Position</th>\n",
              "      <th>Age</th>\n",
              "      <th>Height</th>\n",
              "      <th>Weight</th>\n",
              "      <th>College</th>\n",
              "      <th>Salary</th>\n",
              "    </tr>\n",
              "  </thead>\n",
              "  <tbody>\n",
              "    <tr>\n",
              "      <th>0</th>\n",
              "      <td>Avery Bradley</td>\n",
              "      <td>Boston Celtics</td>\n",
              "      <td>0.0</td>\n",
              "      <td>PG</td>\n",
              "      <td>25.0</td>\n",
              "      <td>6-2</td>\n",
              "      <td>180.0</td>\n",
              "      <td>Texas</td>\n",
              "      <td>7730337.0</td>\n",
              "    </tr>\n",
              "    <tr>\n",
              "      <th>1</th>\n",
              "      <td>Jae Crowder</td>\n",
              "      <td>Boston Celtics</td>\n",
              "      <td>99.0</td>\n",
              "      <td>SF</td>\n",
              "      <td>25.0</td>\n",
              "      <td>6-6</td>\n",
              "      <td>235.0</td>\n",
              "      <td>Marquette</td>\n",
              "      <td>6796117.0</td>\n",
              "    </tr>\n",
              "    <tr>\n",
              "      <th>3</th>\n",
              "      <td>R.J. Hunter</td>\n",
              "      <td>Boston Celtics</td>\n",
              "      <td>28.0</td>\n",
              "      <td>SG</td>\n",
              "      <td>22.0</td>\n",
              "      <td>6-5</td>\n",
              "      <td>185.0</td>\n",
              "      <td>Georgia State</td>\n",
              "      <td>1148640.0</td>\n",
              "    </tr>\n",
              "    <tr>\n",
              "      <th>6</th>\n",
              "      <td>Jordan Mickey</td>\n",
              "      <td>Boston Celtics</td>\n",
              "      <td>55.0</td>\n",
              "      <td>PF</td>\n",
              "      <td>21.0</td>\n",
              "      <td>6-8</td>\n",
              "      <td>235.0</td>\n",
              "      <td>LSU</td>\n",
              "      <td>1170960.0</td>\n",
              "    </tr>\n",
              "    <tr>\n",
              "      <th>7</th>\n",
              "      <td>Kelly Olynyk</td>\n",
              "      <td>Boston Celtics</td>\n",
              "      <td>41.0</td>\n",
              "      <td>C</td>\n",
              "      <td>25.0</td>\n",
              "      <td>7-0</td>\n",
              "      <td>238.0</td>\n",
              "      <td>Gonzaga</td>\n",
              "      <td>2165160.0</td>\n",
              "    </tr>\n",
              "  </tbody>\n",
              "</table>\n",
              "</div>"
            ],
            "text/plain": [
              "            Name            Team  Number  ... Weight        College     Salary\n",
              "0  Avery Bradley  Boston Celtics     0.0  ...  180.0          Texas  7730337.0\n",
              "1    Jae Crowder  Boston Celtics    99.0  ...  235.0      Marquette  6796117.0\n",
              "3    R.J. Hunter  Boston Celtics    28.0  ...  185.0  Georgia State  1148640.0\n",
              "6  Jordan Mickey  Boston Celtics    55.0  ...  235.0            LSU  1170960.0\n",
              "7   Kelly Olynyk  Boston Celtics    41.0  ...  238.0        Gonzaga  2165160.0\n",
              "\n",
              "[5 rows x 9 columns]"
            ]
          },
          "metadata": {
            "tags": []
          },
          "execution_count": 37
        }
      ]
    },
    {
      "cell_type": "markdown",
      "metadata": {
        "id": "XFEs5pK7yiil"
      },
      "source": [
        "**Convert Weight (lb to kg)**\n",
        "\n",
        "1lb = 0.45359237 kg"
      ]
    },
    {
      "cell_type": "code",
      "metadata": {
        "id": "sI_LtEg_ekrg"
      },
      "source": [
        "# df_nba['Weight (kg)'] = round(df_nba['Weight'] * 0.45359237, 2)\n",
        "df_nba['Weight'] = round(df_nba['Weight'] * 0.45359237, 2)"
      ],
      "execution_count": 38,
      "outputs": []
    },
    {
      "cell_type": "code",
      "metadata": {
        "id": "ViXUbfJyeknm",
        "outputId": "d696be0a-b51c-47d8-9516-2a9a43675a1a",
        "colab": {
          "base_uri": "https://localhost:8080/",
          "height": 197
        }
      },
      "source": [
        "df_nba.head()"
      ],
      "execution_count": 39,
      "outputs": [
        {
          "output_type": "execute_result",
          "data": {
            "text/html": [
              "<div>\n",
              "<style scoped>\n",
              "    .dataframe tbody tr th:only-of-type {\n",
              "        vertical-align: middle;\n",
              "    }\n",
              "\n",
              "    .dataframe tbody tr th {\n",
              "        vertical-align: top;\n",
              "    }\n",
              "\n",
              "    .dataframe thead th {\n",
              "        text-align: right;\n",
              "    }\n",
              "</style>\n",
              "<table border=\"1\" class=\"dataframe\">\n",
              "  <thead>\n",
              "    <tr style=\"text-align: right;\">\n",
              "      <th></th>\n",
              "      <th>Name</th>\n",
              "      <th>Team</th>\n",
              "      <th>Number</th>\n",
              "      <th>Position</th>\n",
              "      <th>Age</th>\n",
              "      <th>Height</th>\n",
              "      <th>Weight</th>\n",
              "      <th>College</th>\n",
              "      <th>Salary</th>\n",
              "    </tr>\n",
              "  </thead>\n",
              "  <tbody>\n",
              "    <tr>\n",
              "      <th>0</th>\n",
              "      <td>Avery Bradley</td>\n",
              "      <td>Boston Celtics</td>\n",
              "      <td>0.0</td>\n",
              "      <td>PG</td>\n",
              "      <td>25.0</td>\n",
              "      <td>6-2</td>\n",
              "      <td>81.65</td>\n",
              "      <td>Texas</td>\n",
              "      <td>7730337.0</td>\n",
              "    </tr>\n",
              "    <tr>\n",
              "      <th>1</th>\n",
              "      <td>Jae Crowder</td>\n",
              "      <td>Boston Celtics</td>\n",
              "      <td>99.0</td>\n",
              "      <td>SF</td>\n",
              "      <td>25.0</td>\n",
              "      <td>6-6</td>\n",
              "      <td>106.59</td>\n",
              "      <td>Marquette</td>\n",
              "      <td>6796117.0</td>\n",
              "    </tr>\n",
              "    <tr>\n",
              "      <th>3</th>\n",
              "      <td>R.J. Hunter</td>\n",
              "      <td>Boston Celtics</td>\n",
              "      <td>28.0</td>\n",
              "      <td>SG</td>\n",
              "      <td>22.0</td>\n",
              "      <td>6-5</td>\n",
              "      <td>83.91</td>\n",
              "      <td>Georgia State</td>\n",
              "      <td>1148640.0</td>\n",
              "    </tr>\n",
              "    <tr>\n",
              "      <th>6</th>\n",
              "      <td>Jordan Mickey</td>\n",
              "      <td>Boston Celtics</td>\n",
              "      <td>55.0</td>\n",
              "      <td>PF</td>\n",
              "      <td>21.0</td>\n",
              "      <td>6-8</td>\n",
              "      <td>106.59</td>\n",
              "      <td>LSU</td>\n",
              "      <td>1170960.0</td>\n",
              "    </tr>\n",
              "    <tr>\n",
              "      <th>7</th>\n",
              "      <td>Kelly Olynyk</td>\n",
              "      <td>Boston Celtics</td>\n",
              "      <td>41.0</td>\n",
              "      <td>C</td>\n",
              "      <td>25.0</td>\n",
              "      <td>7-0</td>\n",
              "      <td>107.95</td>\n",
              "      <td>Gonzaga</td>\n",
              "      <td>2165160.0</td>\n",
              "    </tr>\n",
              "  </tbody>\n",
              "</table>\n",
              "</div>"
            ],
            "text/plain": [
              "            Name            Team  Number  ...  Weight        College     Salary\n",
              "0  Avery Bradley  Boston Celtics     0.0  ...   81.65          Texas  7730337.0\n",
              "1    Jae Crowder  Boston Celtics    99.0  ...  106.59      Marquette  6796117.0\n",
              "3    R.J. Hunter  Boston Celtics    28.0  ...   83.91  Georgia State  1148640.0\n",
              "6  Jordan Mickey  Boston Celtics    55.0  ...  106.59            LSU  1170960.0\n",
              "7   Kelly Olynyk  Boston Celtics    41.0  ...  107.95        Gonzaga  2165160.0\n",
              "\n",
              "[5 rows x 9 columns]"
            ]
          },
          "metadata": {
            "tags": []
          },
          "execution_count": 39
        }
      ]
    },
    {
      "cell_type": "markdown",
      "metadata": {
        "id": "s4iQf4_D0wnf"
      },
      "source": [
        "**Convert Heihgt (ft and in to m)**\n",
        "\n",
        "1 ft = 0.3048 m\n",
        "\n",
        "1 in = 0.0254 m"
      ]
    },
    {
      "cell_type": "code",
      "metadata": {
        "id": "VdRhH_bp0tmM",
        "outputId": "797b415c-3be5-4ece-b076-1bf3d22d88f5",
        "colab": {
          "base_uri": "https://localhost:8080/",
          "height": 306
        }
      },
      "source": [
        "import re\n",
        "df_nba[\"ft\"] = 0\n",
        "df_nba['in'] = 0\n",
        "for i in range(len(df_nba['Height'])):\n",
        "  m_ft = re.search(r\"[1-9]*-\", df_nba['Height'].iloc[i])\n",
        "  df_nba['ft'].iloc[i] = int(m_ft.group()[:-1])\n",
        "  m_in = re.search(r\"-[1-9]*\", df_nba['Height'].iloc[i])\n",
        "  if m_in.group()[1:].isdigit():\n",
        "    df_nba['in'].iloc[i] = int(m_in.group()[1:])\n",
        "  else:\n",
        "    df_nba['in'].iloc[i] = 0\n",
        "\n",
        "\n",
        "# df_nba['Height (m)'] = round((df_nba['ft'] * 0.3048) + (df_nba['in'] * 0.0254), 2) \n",
        "df_nba['Height'] = round((df_nba['ft'] * 0.3048) + (df_nba['in'] * 0.0254), 2) \n",
        "del df_nba['ft'], df_nba['in']\n",
        "df_nba.head()"
      ],
      "execution_count": 40,
      "outputs": [
        {
          "output_type": "stream",
          "text": [
            "/usr/local/lib/python3.6/dist-packages/pandas/core/indexing.py:670: SettingWithCopyWarning: \n",
            "A value is trying to be set on a copy of a slice from a DataFrame\n",
            "\n",
            "See the caveats in the documentation: https://pandas.pydata.org/pandas-docs/stable/user_guide/indexing.html#returning-a-view-versus-a-copy\n",
            "  iloc._setitem_with_indexer(indexer, value)\n"
          ],
          "name": "stderr"
        },
        {
          "output_type": "execute_result",
          "data": {
            "text/html": [
              "<div>\n",
              "<style scoped>\n",
              "    .dataframe tbody tr th:only-of-type {\n",
              "        vertical-align: middle;\n",
              "    }\n",
              "\n",
              "    .dataframe tbody tr th {\n",
              "        vertical-align: top;\n",
              "    }\n",
              "\n",
              "    .dataframe thead th {\n",
              "        text-align: right;\n",
              "    }\n",
              "</style>\n",
              "<table border=\"1\" class=\"dataframe\">\n",
              "  <thead>\n",
              "    <tr style=\"text-align: right;\">\n",
              "      <th></th>\n",
              "      <th>Name</th>\n",
              "      <th>Team</th>\n",
              "      <th>Number</th>\n",
              "      <th>Position</th>\n",
              "      <th>Age</th>\n",
              "      <th>Height</th>\n",
              "      <th>Weight</th>\n",
              "      <th>College</th>\n",
              "      <th>Salary</th>\n",
              "    </tr>\n",
              "  </thead>\n",
              "  <tbody>\n",
              "    <tr>\n",
              "      <th>0</th>\n",
              "      <td>Avery Bradley</td>\n",
              "      <td>Boston Celtics</td>\n",
              "      <td>0.0</td>\n",
              "      <td>PG</td>\n",
              "      <td>25.0</td>\n",
              "      <td>1.88</td>\n",
              "      <td>81.65</td>\n",
              "      <td>Texas</td>\n",
              "      <td>7730337.0</td>\n",
              "    </tr>\n",
              "    <tr>\n",
              "      <th>1</th>\n",
              "      <td>Jae Crowder</td>\n",
              "      <td>Boston Celtics</td>\n",
              "      <td>99.0</td>\n",
              "      <td>SF</td>\n",
              "      <td>25.0</td>\n",
              "      <td>1.98</td>\n",
              "      <td>106.59</td>\n",
              "      <td>Marquette</td>\n",
              "      <td>6796117.0</td>\n",
              "    </tr>\n",
              "    <tr>\n",
              "      <th>3</th>\n",
              "      <td>R.J. Hunter</td>\n",
              "      <td>Boston Celtics</td>\n",
              "      <td>28.0</td>\n",
              "      <td>SG</td>\n",
              "      <td>22.0</td>\n",
              "      <td>1.96</td>\n",
              "      <td>83.91</td>\n",
              "      <td>Georgia State</td>\n",
              "      <td>1148640.0</td>\n",
              "    </tr>\n",
              "    <tr>\n",
              "      <th>6</th>\n",
              "      <td>Jordan Mickey</td>\n",
              "      <td>Boston Celtics</td>\n",
              "      <td>55.0</td>\n",
              "      <td>PF</td>\n",
              "      <td>21.0</td>\n",
              "      <td>2.03</td>\n",
              "      <td>106.59</td>\n",
              "      <td>LSU</td>\n",
              "      <td>1170960.0</td>\n",
              "    </tr>\n",
              "    <tr>\n",
              "      <th>7</th>\n",
              "      <td>Kelly Olynyk</td>\n",
              "      <td>Boston Celtics</td>\n",
              "      <td>41.0</td>\n",
              "      <td>C</td>\n",
              "      <td>25.0</td>\n",
              "      <td>2.13</td>\n",
              "      <td>107.95</td>\n",
              "      <td>Gonzaga</td>\n",
              "      <td>2165160.0</td>\n",
              "    </tr>\n",
              "  </tbody>\n",
              "</table>\n",
              "</div>"
            ],
            "text/plain": [
              "            Name            Team  Number  ...  Weight        College     Salary\n",
              "0  Avery Bradley  Boston Celtics     0.0  ...   81.65          Texas  7730337.0\n",
              "1    Jae Crowder  Boston Celtics    99.0  ...  106.59      Marquette  6796117.0\n",
              "3    R.J. Hunter  Boston Celtics    28.0  ...   83.91  Georgia State  1148640.0\n",
              "6  Jordan Mickey  Boston Celtics    55.0  ...  106.59            LSU  1170960.0\n",
              "7   Kelly Olynyk  Boston Celtics    41.0  ...  107.95        Gonzaga  2165160.0\n",
              "\n",
              "[5 rows x 9 columns]"
            ]
          },
          "metadata": {
            "tags": []
          },
          "execution_count": 40
        }
      ]
    },
    {
      "cell_type": "markdown",
      "metadata": {
        "id": "dzSqkO4BH9Zj"
      },
      "source": [
        "## **Aggregation functions**\n"
      ]
    },
    {
      "cell_type": "code",
      "metadata": {
        "id": "rbfGcXBIekku",
        "outputId": "66e86938-a985-4b15-c0ec-8499dd2d73cb",
        "colab": {
          "base_uri": "https://localhost:8080/",
          "height": 197
        }
      },
      "source": [
        "df_nba.head()\n"
      ],
      "execution_count": 41,
      "outputs": [
        {
          "output_type": "execute_result",
          "data": {
            "text/html": [
              "<div>\n",
              "<style scoped>\n",
              "    .dataframe tbody tr th:only-of-type {\n",
              "        vertical-align: middle;\n",
              "    }\n",
              "\n",
              "    .dataframe tbody tr th {\n",
              "        vertical-align: top;\n",
              "    }\n",
              "\n",
              "    .dataframe thead th {\n",
              "        text-align: right;\n",
              "    }\n",
              "</style>\n",
              "<table border=\"1\" class=\"dataframe\">\n",
              "  <thead>\n",
              "    <tr style=\"text-align: right;\">\n",
              "      <th></th>\n",
              "      <th>Name</th>\n",
              "      <th>Team</th>\n",
              "      <th>Number</th>\n",
              "      <th>Position</th>\n",
              "      <th>Age</th>\n",
              "      <th>Height</th>\n",
              "      <th>Weight</th>\n",
              "      <th>College</th>\n",
              "      <th>Salary</th>\n",
              "    </tr>\n",
              "  </thead>\n",
              "  <tbody>\n",
              "    <tr>\n",
              "      <th>0</th>\n",
              "      <td>Avery Bradley</td>\n",
              "      <td>Boston Celtics</td>\n",
              "      <td>0.0</td>\n",
              "      <td>PG</td>\n",
              "      <td>25.0</td>\n",
              "      <td>1.88</td>\n",
              "      <td>81.65</td>\n",
              "      <td>Texas</td>\n",
              "      <td>7730337.0</td>\n",
              "    </tr>\n",
              "    <tr>\n",
              "      <th>1</th>\n",
              "      <td>Jae Crowder</td>\n",
              "      <td>Boston Celtics</td>\n",
              "      <td>99.0</td>\n",
              "      <td>SF</td>\n",
              "      <td>25.0</td>\n",
              "      <td>1.98</td>\n",
              "      <td>106.59</td>\n",
              "      <td>Marquette</td>\n",
              "      <td>6796117.0</td>\n",
              "    </tr>\n",
              "    <tr>\n",
              "      <th>3</th>\n",
              "      <td>R.J. Hunter</td>\n",
              "      <td>Boston Celtics</td>\n",
              "      <td>28.0</td>\n",
              "      <td>SG</td>\n",
              "      <td>22.0</td>\n",
              "      <td>1.96</td>\n",
              "      <td>83.91</td>\n",
              "      <td>Georgia State</td>\n",
              "      <td>1148640.0</td>\n",
              "    </tr>\n",
              "    <tr>\n",
              "      <th>6</th>\n",
              "      <td>Jordan Mickey</td>\n",
              "      <td>Boston Celtics</td>\n",
              "      <td>55.0</td>\n",
              "      <td>PF</td>\n",
              "      <td>21.0</td>\n",
              "      <td>2.03</td>\n",
              "      <td>106.59</td>\n",
              "      <td>LSU</td>\n",
              "      <td>1170960.0</td>\n",
              "    </tr>\n",
              "    <tr>\n",
              "      <th>7</th>\n",
              "      <td>Kelly Olynyk</td>\n",
              "      <td>Boston Celtics</td>\n",
              "      <td>41.0</td>\n",
              "      <td>C</td>\n",
              "      <td>25.0</td>\n",
              "      <td>2.13</td>\n",
              "      <td>107.95</td>\n",
              "      <td>Gonzaga</td>\n",
              "      <td>2165160.0</td>\n",
              "    </tr>\n",
              "  </tbody>\n",
              "</table>\n",
              "</div>"
            ],
            "text/plain": [
              "            Name            Team  Number  ...  Weight        College     Salary\n",
              "0  Avery Bradley  Boston Celtics     0.0  ...   81.65          Texas  7730337.0\n",
              "1    Jae Crowder  Boston Celtics    99.0  ...  106.59      Marquette  6796117.0\n",
              "3    R.J. Hunter  Boston Celtics    28.0  ...   83.91  Georgia State  1148640.0\n",
              "6  Jordan Mickey  Boston Celtics    55.0  ...  106.59            LSU  1170960.0\n",
              "7   Kelly Olynyk  Boston Celtics    41.0  ...  107.95        Gonzaga  2165160.0\n",
              "\n",
              "[5 rows x 9 columns]"
            ]
          },
          "metadata": {
            "tags": []
          },
          "execution_count": 41
        }
      ]
    },
    {
      "cell_type": "code",
      "metadata": {
        "id": "zxw7FKToIOIc",
        "outputId": "e5e5b533-7b83-4e6d-a59f-d75c833d3168",
        "colab": {
          "base_uri": "https://localhost:8080/",
          "height": 283
        }
      },
      "source": [
        "# df_nba.groupby(['Position'])[\"Age\" ,\"Height (m)\", 'Weight (kg)'].mean()\n",
        "df_nba.groupby(['Position'])[\"Age\" ,\"Height\", 'Weight'].mean()"
      ],
      "execution_count": 42,
      "outputs": [
        {
          "output_type": "stream",
          "text": [
            "/usr/local/lib/python3.6/dist-packages/ipykernel_launcher.py:2: FutureWarning: Indexing with multiple keys (implicitly converted to a tuple of keys) will be deprecated, use a list instead.\n",
            "  \n"
          ],
          "name": "stderr"
        },
        {
          "output_type": "execute_result",
          "data": {
            "text/html": [
              "<div>\n",
              "<style scoped>\n",
              "    .dataframe tbody tr th:only-of-type {\n",
              "        vertical-align: middle;\n",
              "    }\n",
              "\n",
              "    .dataframe tbody tr th {\n",
              "        vertical-align: top;\n",
              "    }\n",
              "\n",
              "    .dataframe thead th {\n",
              "        text-align: right;\n",
              "    }\n",
              "</style>\n",
              "<table border=\"1\" class=\"dataframe\">\n",
              "  <thead>\n",
              "    <tr style=\"text-align: right;\">\n",
              "      <th></th>\n",
              "      <th>Age</th>\n",
              "      <th>Height</th>\n",
              "      <th>Weight</th>\n",
              "    </tr>\n",
              "    <tr>\n",
              "      <th>Position</th>\n",
              "      <th></th>\n",
              "      <th></th>\n",
              "      <th></th>\n",
              "    </tr>\n",
              "  </thead>\n",
              "  <tbody>\n",
              "    <tr>\n",
              "      <th>C</th>\n",
              "      <td>26.857143</td>\n",
              "      <td>2.071020</td>\n",
              "      <td>114.739388</td>\n",
              "    </tr>\n",
              "    <tr>\n",
              "      <th>PF</th>\n",
              "      <td>26.679012</td>\n",
              "      <td>2.011975</td>\n",
              "      <td>108.615556</td>\n",
              "    </tr>\n",
              "    <tr>\n",
              "      <th>PG</th>\n",
              "      <td>26.750000</td>\n",
              "      <td>1.888421</td>\n",
              "      <td>86.308026</td>\n",
              "    </tr>\n",
              "    <tr>\n",
              "      <th>SF</th>\n",
              "      <td>26.732394</td>\n",
              "      <td>2.010141</td>\n",
              "      <td>100.582254</td>\n",
              "    </tr>\n",
              "    <tr>\n",
              "      <th>SG</th>\n",
              "      <td>26.206897</td>\n",
              "      <td>1.969540</td>\n",
              "      <td>93.877356</td>\n",
              "    </tr>\n",
              "  </tbody>\n",
              "</table>\n",
              "</div>"
            ],
            "text/plain": [
              "                Age    Height      Weight\n",
              "Position                                 \n",
              "C         26.857143  2.071020  114.739388\n",
              "PF        26.679012  2.011975  108.615556\n",
              "PG        26.750000  1.888421   86.308026\n",
              "SF        26.732394  2.010141  100.582254\n",
              "SG        26.206897  1.969540   93.877356"
            ]
          },
          "metadata": {
            "tags": []
          },
          "execution_count": 42
        }
      ]
    },
    {
      "cell_type": "code",
      "metadata": {
        "id": "P_AW4qr2IN-u",
        "outputId": "7f76f4ae-b4b5-4b65-d219-1a0208ded3fb",
        "colab": {
          "base_uri": "https://localhost:8080/"
        }
      },
      "source": [
        "df_nba.groupby(['Position'])['Salary'].max()"
      ],
      "execution_count": 43,
      "outputs": [
        {
          "output_type": "execute_result",
          "data": {
            "text/plain": [
              "Position\n",
              "C     19689000.0\n",
              "PF    22192730.0\n",
              "PG    21468695.0\n",
              "SF    22875000.0\n",
              "SG    20000000.0\n",
              "Name: Salary, dtype: float64"
            ]
          },
          "metadata": {
            "tags": []
          },
          "execution_count": 43
        }
      ]
    },
    {
      "cell_type": "code",
      "metadata": {
        "id": "S0t4n-mlIN7p",
        "outputId": "c12c6851-d85c-4877-a6ca-0bb5ad6c3b47",
        "colab": {
          "base_uri": "https://localhost:8080/"
        }
      },
      "source": [
        "df_nba.groupby(['Position'])['Salary'].min()"
      ],
      "execution_count": 44,
      "outputs": [
        {
          "output_type": "execute_result",
          "data": {
            "text/plain": [
              "Position\n",
              "C      83397.0\n",
              "PF    111444.0\n",
              "PG     55722.0\n",
              "SF    200600.0\n",
              "SG     55722.0\n",
              "Name: Salary, dtype: float64"
            ]
          },
          "metadata": {
            "tags": []
          },
          "execution_count": 44
        }
      ]
    },
    {
      "cell_type": "code",
      "metadata": {
        "id": "wLAyVnXvQYBT",
        "outputId": "d41d3b46-0337-4fee-cb90-97f060d6adf5",
        "colab": {
          "base_uri": "https://localhost:8080/"
        }
      },
      "source": [
        "df_nba.groupby(['Position'])['Salary'].median()"
      ],
      "execution_count": 45,
      "outputs": [
        {
          "output_type": "execute_result",
          "data": {
            "text/plain": [
              "Position\n",
              "C     3398280.0\n",
              "PF    2850000.0\n",
              "PG    2927470.0\n",
              "SF    2000000.0\n",
              "SG    1500000.0\n",
              "Name: Salary, dtype: float64"
            ]
          },
          "metadata": {
            "tags": []
          },
          "execution_count": 45
        }
      ]
    },
    {
      "cell_type": "markdown",
      "metadata": {
        "id": "iyQkzxd8RA7y"
      },
      "source": [
        "## **Visualisation**"
      ]
    },
    {
      "cell_type": "code",
      "metadata": {
        "id": "f6FKkVz1QXoV",
        "outputId": "6fbbdfbb-161f-4f8d-8796-f74da01a5f55",
        "colab": {
          "base_uri": "https://localhost:8080/",
          "height": 305
        }
      },
      "source": [
        "df_nba.groupby(['Position']).agg({'Salary': [np.min,np.max]}).\\\n",
        "plot.barh(stacked=True)\n",
        "plt.axvline(df_nba['Salary'].mean(), color='red', linewidth=2)\n",
        "# plt.axvline(df_nba['Salary'].median(), color='black', linewidth=2)\n",
        "\n",
        "plt.xlabel(\"Min and Max salary ($)\", fontsize=20)\n",
        "plt.ylabel(\"Position\", fontsize=20)\n",
        "plt.legend(['Average','Median','Min', 'Max'])\n",
        "plt.xlim([0, 25000000])"
      ],
      "execution_count": 46,
      "outputs": [
        {
          "output_type": "execute_result",
          "data": {
            "text/plain": [
              "(0.0, 25000000.0)"
            ]
          },
          "metadata": {
            "tags": []
          },
          "execution_count": 46
        },
        {
          "output_type": "display_data",
          "data": {
            "image/png": "[encoded data removed]",
            "text/plain": [
              "<Figure size 432x288 with 1 Axes>"
            ]
          },
          "metadata": {
            "tags": [],
            "needs_background": "light"
          }
        }
      ]
    },
    {
      "cell_type": "code",
      "metadata": {
        "id": "GMfdHIZSQXY1",
        "outputId": "4cc7f743-493a-410e-ae24-3aab7b7d3948",
        "colab": {
          "base_uri": "https://localhost:8080/",
          "height": 322
        }
      },
      "source": [
        "mean_salary_team = df_nba.groupby(['Team'], as_index=False)['Salary'].mean()\n",
        "mean_salary_team.sort_values(by = ['Salary'], ascending=False, inplace = True)\n",
        "top5_mean_salary_team = mean_salary_team.head()\n",
        "plt.barh(top5_mean_salary_team['Team'], top5_mean_salary_team['Salary'],\\\n",
        "         color = 'steelblue')\n",
        "plt.title('Top 5 teams with biggest average player salary', size = 20)\n",
        "plt.xlabel(\"Average salary $\", fontsize=15)\n",
        "plt.ylabel(\"Team\", fontsize=15)"
      ],
      "execution_count": 47,
      "outputs": [
        {
          "output_type": "execute_result",
          "data": {
            "text/plain": [
              "Text(0, 0.5, 'Team')"
            ]
          },
          "metadata": {
            "tags": []
          },
          "execution_count": 47
        },
        {
          "output_type": "display_data",
          "data": {
            "image/png": "[encoded data removed]",
            "text/plain": [
              "<Figure size 432x288 with 1 Axes>"
            ]
          },
          "metadata": {
            "tags": [],
            "needs_background": "light"
          }
        }
      ]
    },
    {
      "cell_type": "code",
      "metadata": {
        "id": "5TKJHBBkSK25"
      },
      "source": [
        ""
      ],
      "execution_count": 47,
      "outputs": []
    },
    {
      "cell_type": "markdown",
      "metadata": {
        "id": "gi5meYs1TERj"
      },
      "source": [
        "# **Export Employee and NBA**"
      ]
    },
    {
      "cell_type": "code",
      "metadata": {
        "id": "eWNMGraPVRgc",
        "outputId": "9b277186-a657-48b6-ae1e-c06d63035a12",
        "colab": {
          "base_uri": "https://localhost:8080/",
          "height": 16
        }
      },
      "source": [
        "df_employee.to_csv('employee_update.csv')\n",
        "files.download('employee_update.csv')"
      ],
      "execution_count": 48,
      "outputs": [
        {
          "output_type": "display_data",
          "data": {
            "application/javascript": [
              "\n",
              "    async function download(id, filename, size) {\n",
              "      if (!google.colab.kernel.accessAllowed) {\n",
              "        return;\n",
              "      }\n",
              "      const div = document.createElement('div');\n",
              "      const label = document.createElement('label');\n",
              "      label.textContent = `Downloading \"${filename}\": `;\n",
              "      div.appendChild(label);\n",
              "      const progress = document.createElement('progress');\n",
              "      progress.max = size;\n",
              "      div.appendChild(progress);\n",
              "      document.body.appendChild(div);\n",
              "\n",
              "      const buffers = [];\n",
              "      let downloaded = 0;\n",
              "\n",
              "      const channel = await google.colab.kernel.comms.open(id);\n",
              "      // Send a message to notify the kernel that we're ready.\n",
              "      channel.send({})\n",
              "\n",
              "      for await (const message of channel.messages) {\n",
              "        // Send a message to notify the kernel that we're ready.\n",
              "        channel.send({})\n",
              "        if (message.buffers) {\n",
              "          for (const buffer of message.buffers) {\n",
              "            buffers.push(buffer);\n",
              "            downloaded += buffer.byteLength;\n",
              "            progress.value = downloaded;\n",
              "          }\n",
              "        }\n",
              "      }\n",
              "      const blob = new Blob(buffers, {type: 'application/binary'});\n",
              "      const a = document.createElement('a');\n",
              "      a.href = window.URL.createObjectURL(blob);\n",
              "      a.download = filename;\n",
              "      div.appendChild(a);\n",
              "      a.click();\n",
              "      div.remove();\n",
              "    }\n",
              "  "
            ],
            "text/plain": [
              "<IPython.core.display.Javascript object>"
            ]
          },
          "metadata": {
            "tags": []
          }
        },
        {
          "output_type": "display_data",
          "data": {
            "application/javascript": [
              "download(\"download_212440a8-2b74-4538-a28e-c412d22b2f7d\", \"employee_update.csv\", 51155)"
            ],
            "text/plain": [
              "<IPython.core.display.Javascript object>"
            ]
          },
          "metadata": {
            "tags": []
          }
        }
      ]
    },
    {
      "cell_type": "code",
      "metadata": {
        "id": "B5Fmwy7AVRqv",
        "outputId": "ff25d54e-0b2a-483b-dcbe-c07a43e4a5e0",
        "colab": {
          "base_uri": "https://localhost:8080/",
          "height": 16
        }
      },
      "source": [
        "df_nba.to_csv('nba_update.csv')\n",
        "files.download('nba_update.csv')"
      ],
      "execution_count": 49,
      "outputs": [
        {
          "output_type": "display_data",
          "data": {
            "application/javascript": [
              "\n",
              "    async function download(id, filename, size) {\n",
              "      if (!google.colab.kernel.accessAllowed) {\n",
              "        return;\n",
              "      }\n",
              "      const div = document.createElement('div');\n",
              "      const label = document.createElement('label');\n",
              "      label.textContent = `Downloading \"${filename}\": `;\n",
              "      div.appendChild(label);\n",
              "      const progress = document.createElement('progress');\n",
              "      progress.max = size;\n",
              "      div.appendChild(progress);\n",
              "      document.body.appendChild(div);\n",
              "\n",
              "      const buffers = [];\n",
              "      let downloaded = 0;\n",
              "\n",
              "      const channel = await google.colab.kernel.comms.open(id);\n",
              "      // Send a message to notify the kernel that we're ready.\n",
              "      channel.send({})\n",
              "\n",
              "      for await (const message of channel.messages) {\n",
              "        // Send a message to notify the kernel that we're ready.\n",
              "        channel.send({})\n",
              "        if (message.buffers) {\n",
              "          for (const buffer of message.buffers) {\n",
              "            buffers.push(buffer);\n",
              "            downloaded += buffer.byteLength;\n",
              "            progress.value = downloaded;\n",
              "          }\n",
              "        }\n",
              "      }\n",
              "      const blob = new Blob(buffers, {type: 'application/binary'});\n",
              "      const a = document.createElement('a');\n",
              "      a.href = window.URL.createObjectURL(blob);\n",
              "      a.download = filename;\n",
              "      div.appendChild(a);\n",
              "      a.click();\n",
              "      div.remove();\n",
              "    }\n",
              "  "
            ],
            "text/plain": [
              "<IPython.core.display.Javascript object>"
            ]
          },
          "metadata": {
            "tags": []
          }
        },
        {
          "output_type": "display_data",
          "data": {
            "application/javascript": [
              "download(\"download_0aaca689-0ed0-4765-ba19-fc1409acc3c8\", \"nba_update.csv\", 28635)"
            ],
            "text/plain": [
              "<IPython.core.display.Javascript object>"
            ]
          },
          "metadata": {
            "tags": []
          }
        }
      ]
    },
    {
      "cell_type": "code",
      "metadata": {
        "id": "BOU9eYEtMlep"
      },
      "source": [
        ""
      ],
      "execution_count": 49,
      "outputs": []
    },
    {
      "cell_type": "markdown",
      "metadata": {
        "id": "jV99p1HtSMEN"
      },
      "source": [
        "# **Join/Merge**"
      ]
    },
    {
      "cell_type": "markdown",
      "metadata": {
        "id": "i5QbI2mA9hem"
      },
      "source": [
        "![join.png](data:image/png;base64,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)"
      ]
    },
    {
      "cell_type": "code",
      "metadata": {
        "id": "3U6a2d-X5ZZt",
        "outputId": "f2083658-37e0-496a-ce97-e2c5538cd7b2",
        "colab": {
          "base_uri": "https://localhost:8080/",
          "height": 167
        }
      },
      "source": [
        "\n",
        "df1 = pd.DataFrame({\n",
        "    \"city\": [\"Lutsk\", \"Lviv\", \"Odessa\", \"Kyiv\"],\n",
        "    \"temperature\": [25, 14, 30, 24],\n",
        "})\n",
        "df1"
      ],
      "execution_count": 50,
      "outputs": [
        {
          "output_type": "execute_result",
          "data": {
            "text/html": [
              "<div>\n",
              "<style scoped>\n",
              "    .dataframe tbody tr th:only-of-type {\n",
              "        vertical-align: middle;\n",
              "    }\n",
              "\n",
              "    .dataframe tbody tr th {\n",
              "        vertical-align: top;\n",
              "    }\n",
              "\n",
              "    .dataframe thead th {\n",
              "        text-align: right;\n",
              "    }\n",
              "</style>\n",
              "<table border=\"1\" class=\"dataframe\">\n",
              "  <thead>\n",
              "    <tr style=\"text-align: right;\">\n",
              "      <th></th>\n",
              "      <th>city</th>\n",
              "      <th>temperature</th>\n",
              "    </tr>\n",
              "  </thead>\n",
              "  <tbody>\n",
              "    <tr>\n",
              "      <th>0</th>\n",
              "      <td>Lutsk</td>\n",
              "      <td>25</td>\n",
              "    </tr>\n",
              "    <tr>\n",
              "      <th>1</th>\n",
              "      <td>Lviv</td>\n",
              "      <td>14</td>\n",
              "    </tr>\n",
              "    <tr>\n",
              "      <th>2</th>\n",
              "      <td>Odessa</td>\n",
              "      <td>30</td>\n",
              "    </tr>\n",
              "    <tr>\n",
              "      <th>3</th>\n",
              "      <td>Kyiv</td>\n",
              "      <td>24</td>\n",
              "    </tr>\n",
              "  </tbody>\n",
              "</table>\n",
              "</div>"
            ],
            "text/plain": [
              "     city  temperature\n",
              "0   Lutsk           25\n",
              "1    Lviv           14\n",
              "2  Odessa           30\n",
              "3    Kyiv           24"
            ]
          },
          "metadata": {
            "tags": []
          },
          "execution_count": 50
        }
      ]
    },
    {
      "cell_type": "code",
      "metadata": {
        "id": "k7_Mlk2F73Lv",
        "outputId": "eae67040-98ca-45b3-f698-2cb8cfcaceac",
        "colab": {
          "base_uri": "https://localhost:8080/",
          "height": 137
        }
      },
      "source": [
        "\n",
        "df2 = pd.DataFrame({\n",
        "    \"city\": [\"Lutsk\", \"Lviv\", \"Donetsk\"],\n",
        "    \"humidity\": [65, 68, 69],\n",
        "})\n",
        "df2"
      ],
      "execution_count": 51,
      "outputs": [
        {
          "output_type": "execute_result",
          "data": {
            "text/html": [
              "<div>\n",
              "<style scoped>\n",
              "    .dataframe tbody tr th:only-of-type {\n",
              "        vertical-align: middle;\n",
              "    }\n",
              "\n",
              "    .dataframe tbody tr th {\n",
              "        vertical-align: top;\n",
              "    }\n",
              "\n",
              "    .dataframe thead th {\n",
              "        text-align: right;\n",
              "    }\n",
              "</style>\n",
              "<table border=\"1\" class=\"dataframe\">\n",
              "  <thead>\n",
              "    <tr style=\"text-align: right;\">\n",
              "      <th></th>\n",
              "      <th>city</th>\n",
              "      <th>humidity</th>\n",
              "    </tr>\n",
              "  </thead>\n",
              "  <tbody>\n",
              "    <tr>\n",
              "      <th>0</th>\n",
              "      <td>Lutsk</td>\n",
              "      <td>65</td>\n",
              "    </tr>\n",
              "    <tr>\n",
              "      <th>1</th>\n",
              "      <td>Lviv</td>\n",
              "      <td>68</td>\n",
              "    </tr>\n",
              "    <tr>\n",
              "      <th>2</th>\n",
              "      <td>Donetsk</td>\n",
              "      <td>69</td>\n",
              "    </tr>\n",
              "  </tbody>\n",
              "</table>\n",
              "</div>"
            ],
            "text/plain": [
              "      city  humidity\n",
              "0    Lutsk        65\n",
              "1     Lviv        68\n",
              "2  Donetsk        69"
            ]
          },
          "metadata": {
            "tags": []
          },
          "execution_count": 51
        }
      ]
    },
    {
      "cell_type": "markdown",
      "metadata": {
        "id": "u6zF-YOY9nCb"
      },
      "source": [
        "## **Inner**"
      ]
    },
    {
      "cell_type": "code",
      "metadata": {
        "id": "yy9o0vFs73Iv",
        "outputId": "41a951fb-bfde-4bde-cb83-5b83832a2518",
        "colab": {
          "base_uri": "https://localhost:8080/",
          "height": 107
        }
      },
      "source": [
        "df3 = pd.merge(df1, df2)\n",
        "df3"
      ],
      "execution_count": 52,
      "outputs": [
        {
          "output_type": "execute_result",
          "data": {
            "text/html": [
              "<div>\n",
              "<style scoped>\n",
              "    .dataframe tbody tr th:only-of-type {\n",
              "        vertical-align: middle;\n",
              "    }\n",
              "\n",
              "    .dataframe tbody tr th {\n",
              "        vertical-align: top;\n",
              "    }\n",
              "\n",
              "    .dataframe thead th {\n",
              "        text-align: right;\n",
              "    }\n",
              "</style>\n",
              "<table border=\"1\" class=\"dataframe\">\n",
              "  <thead>\n",
              "    <tr style=\"text-align: right;\">\n",
              "      <th></th>\n",
              "      <th>city</th>\n",
              "      <th>temperature</th>\n",
              "      <th>humidity</th>\n",
              "    </tr>\n",
              "  </thead>\n",
              "  <tbody>\n",
              "    <tr>\n",
              "      <th>0</th>\n",
              "      <td>Lutsk</td>\n",
              "      <td>25</td>\n",
              "      <td>65</td>\n",
              "    </tr>\n",
              "    <tr>\n",
              "      <th>1</th>\n",
              "      <td>Lviv</td>\n",
              "      <td>14</td>\n",
              "      <td>68</td>\n",
              "    </tr>\n",
              "  </tbody>\n",
              "</table>\n",
              "</div>"
            ],
            "text/plain": [
              "    city  temperature  humidity\n",
              "0  Lutsk           25        65\n",
              "1   Lviv           14        68"
            ]
          },
          "metadata": {
            "tags": []
          },
          "execution_count": 52
        }
      ]
    },
    {
      "cell_type": "markdown",
      "metadata": {
        "id": "E9NIKFaQ9u8B"
      },
      "source": [
        "## **Left**"
      ]
    },
    {
      "cell_type": "code",
      "metadata": {
        "id": "R6HUAJ7Z73Fe",
        "outputId": "232e145e-c030-4ee6-dcbb-3356b7ad957e",
        "colab": {
          "base_uri": "https://localhost:8080/",
          "height": 167
        }
      },
      "source": [
        "df4 = pd.merge(df1, df2, how = 'left')\n",
        "df4"
      ],
      "execution_count": 53,
      "outputs": [
        {
          "output_type": "execute_result",
          "data": {
            "text/html": [
              "<div>\n",
              "<style scoped>\n",
              "    .dataframe tbody tr th:only-of-type {\n",
              "        vertical-align: middle;\n",
              "    }\n",
              "\n",
              "    .dataframe tbody tr th {\n",
              "        vertical-align: top;\n",
              "    }\n",
              "\n",
              "    .dataframe thead th {\n",
              "        text-align: right;\n",
              "    }\n",
              "</style>\n",
              "<table border=\"1\" class=\"dataframe\">\n",
              "  <thead>\n",
              "    <tr style=\"text-align: right;\">\n",
              "      <th></th>\n",
              "      <th>city</th>\n",
              "      <th>temperature</th>\n",
              "      <th>humidity</th>\n",
              "    </tr>\n",
              "  </thead>\n",
              "  <tbody>\n",
              "    <tr>\n",
              "      <th>0</th>\n",
              "      <td>Lutsk</td>\n",
              "      <td>25</td>\n",
              "      <td>65.0</td>\n",
              "    </tr>\n",
              "    <tr>\n",
              "      <th>1</th>\n",
              "      <td>Lviv</td>\n",
              "      <td>14</td>\n",
              "      <td>68.0</td>\n",
              "    </tr>\n",
              "    <tr>\n",
              "      <th>2</th>\n",
              "      <td>Odessa</td>\n",
              "      <td>30</td>\n",
              "      <td>NaN</td>\n",
              "    </tr>\n",
              "    <tr>\n",
              "      <th>3</th>\n",
              "      <td>Kyiv</td>\n",
              "      <td>24</td>\n",
              "      <td>NaN</td>\n",
              "    </tr>\n",
              "  </tbody>\n",
              "</table>\n",
              "</div>"
            ],
            "text/plain": [
              "     city  temperature  humidity\n",
              "0   Lutsk           25      65.0\n",
              "1    Lviv           14      68.0\n",
              "2  Odessa           30       NaN\n",
              "3    Kyiv           24       NaN"
            ]
          },
          "metadata": {
            "tags": []
          },
          "execution_count": 53
        }
      ]
    },
    {
      "cell_type": "markdown",
      "metadata": {
        "id": "niZ5ysY39yf4"
      },
      "source": [
        "## **Right**"
      ]
    },
    {
      "cell_type": "code",
      "metadata": {
        "id": "-Qpm-XLh73Ba",
        "outputId": "36860e0e-abac-4cee-d0f9-393bb83fa1b6",
        "colab": {
          "base_uri": "https://localhost:8080/",
          "height": 137
        }
      },
      "source": [
        "df5 = pd.merge(df1, df2, how = 'right')\n",
        "df5"
      ],
      "execution_count": 54,
      "outputs": [
        {
          "output_type": "execute_result",
          "data": {
            "text/html": [
              "<div>\n",
              "<style scoped>\n",
              "    .dataframe tbody tr th:only-of-type {\n",
              "        vertical-align: middle;\n",
              "    }\n",
              "\n",
              "    .dataframe tbody tr th {\n",
              "        vertical-align: top;\n",
              "    }\n",
              "\n",
              "    .dataframe thead th {\n",
              "        text-align: right;\n",
              "    }\n",
              "</style>\n",
              "<table border=\"1\" class=\"dataframe\">\n",
              "  <thead>\n",
              "    <tr style=\"text-align: right;\">\n",
              "      <th></th>\n",
              "      <th>city</th>\n",
              "      <th>temperature</th>\n",
              "      <th>humidity</th>\n",
              "    </tr>\n",
              "  </thead>\n",
              "  <tbody>\n",
              "    <tr>\n",
              "      <th>0</th>\n",
              "      <td>Lutsk</td>\n",
              "      <td>25.0</td>\n",
              "      <td>65</td>\n",
              "    </tr>\n",
              "    <tr>\n",
              "      <th>1</th>\n",
              "      <td>Lviv</td>\n",
              "      <td>14.0</td>\n",
              "      <td>68</td>\n",
              "    </tr>\n",
              "    <tr>\n",
              "      <th>2</th>\n",
              "      <td>Donetsk</td>\n",
              "      <td>NaN</td>\n",
              "      <td>69</td>\n",
              "    </tr>\n",
              "  </tbody>\n",
              "</table>\n",
              "</div>"
            ],
            "text/plain": [
              "      city  temperature  humidity\n",
              "0    Lutsk         25.0        65\n",
              "1     Lviv         14.0        68\n",
              "2  Donetsk          NaN        69"
            ]
          },
          "metadata": {
            "tags": []
          },
          "execution_count": 54
        }
      ]
    },
    {
      "cell_type": "markdown",
      "metadata": {
        "id": "bSANg0Jx92RO"
      },
      "source": [
        "## **Outer**"
      ]
    },
    {
      "cell_type": "code",
      "metadata": {
        "id": "F7kHGgyF5ZMZ",
        "outputId": "6924bb66-8a87-45c7-ae13-832ddb1c454f",
        "colab": {
          "base_uri": "https://localhost:8080/",
          "height": 197
        }
      },
      "source": [
        "df6 = pd.merge(df1, df2, how = 'outer')\n",
        "df6"
      ],
      "execution_count": 55,
      "outputs": [
        {
          "output_type": "execute_result",
          "data": {
            "text/html": [
              "<div>\n",
              "<style scoped>\n",
              "    .dataframe tbody tr th:only-of-type {\n",
              "        vertical-align: middle;\n",
              "    }\n",
              "\n",
              "    .dataframe tbody tr th {\n",
              "        vertical-align: top;\n",
              "    }\n",
              "\n",
              "    .dataframe thead th {\n",
              "        text-align: right;\n",
              "    }\n",
              "</style>\n",
              "<table border=\"1\" class=\"dataframe\">\n",
              "  <thead>\n",
              "    <tr style=\"text-align: right;\">\n",
              "      <th></th>\n",
              "      <th>city</th>\n",
              "      <th>temperature</th>\n",
              "      <th>humidity</th>\n",
              "    </tr>\n",
              "  </thead>\n",
              "  <tbody>\n",
              "    <tr>\n",
              "      <th>0</th>\n",
              "      <td>Lutsk</td>\n",
              "      <td>25.0</td>\n",
              "      <td>65.0</td>\n",
              "    </tr>\n",
              "    <tr>\n",
              "      <th>1</th>\n",
              "      <td>Lviv</td>\n",
              "      <td>14.0</td>\n",
              "      <td>68.0</td>\n",
              "    </tr>\n",
              "    <tr>\n",
              "      <th>2</th>\n",
              "      <td>Odessa</td>\n",
              "      <td>30.0</td>\n",
              "      <td>NaN</td>\n",
              "    </tr>\n",
              "    <tr>\n",
              "      <th>3</th>\n",
              "      <td>Kyiv</td>\n",
              "      <td>24.0</td>\n",
              "      <td>NaN</td>\n",
              "    </tr>\n",
              "    <tr>\n",
              "      <th>4</th>\n",
              "      <td>Donetsk</td>\n",
              "      <td>NaN</td>\n",
              "      <td>69.0</td>\n",
              "    </tr>\n",
              "  </tbody>\n",
              "</table>\n",
              "</div>"
            ],
            "text/plain": [
              "      city  temperature  humidity\n",
              "0    Lutsk         25.0      65.0\n",
              "1     Lviv         14.0      68.0\n",
              "2   Odessa         30.0       NaN\n",
              "3     Kyiv         24.0       NaN\n",
              "4  Donetsk          NaN      69.0"
            ]
          },
          "metadata": {
            "tags": []
          },
          "execution_count": 55
        }
      ]
    },
    {
      "cell_type": "code",
      "metadata": {
        "id": "ACslf3aPQTGB"
      },
      "source": [
        ""
      ],
      "execution_count": 55,
      "outputs": []
    }
  ]
}